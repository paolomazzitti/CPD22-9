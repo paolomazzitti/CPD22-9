{
 "cells": [
  {
   "cell_type": "markdown",
   "metadata": {},
   "source": [
    "# Progetto Lar Generators\n",
    "\n",
    "| Nome| Matricola | E-mail | Profilo Github |\n",
    "|:---:|:---:|:---:|:---:|\n",
    "|Paolo Mazzitti|502042|pao.mazzitti@stud.uniroma3.it| [https://github.com/paolomazzitti](https://github.com/paolomazzitti) |\n",
    "| Matteo Colonnello|527289|mat.colonnello@stud.uniroma3.it|[https://github.com/MatteoColonnello](https://github.com/MatteoColonnello)|\n",
    "| Martina Falanga|522705|mar.falanga@stud.uniroma3.it|[https://github.com/MartinaFalanga](https://github.com/MartinaFalanga) |"
   ]
  },
  {
   "cell_type": "markdown",
   "metadata": {},
   "source": [
    "Per avviare una istanza Jupyter con 8 threads, eseguire il seguente codice dal proprio terminale e selezionare il kernel appena creato.\n",
    "\n",
    "```julia\n",
    "using IJulia\n",
    "IJulia.installkernel(\"Julia 8 Threads\", env=Dict(\n",
    "    \"JULIA_NUM_THREADS\" => \"8\",\n",
    "))\n",
    "````\n"
   ]
  },
  {
   "cell_type": "code",
   "execution_count": 27,
   "metadata": {},
   "outputs": [
    {
     "data": {
      "text/plain": [
       "8"
      ]
     },
     "metadata": {},
     "output_type": "display_data"
    }
   ],
   "source": [
    "using Base.Threads\n",
    "Threads.nthreads()"
   ]
  },
  {
   "cell_type": "markdown",
   "metadata": {},
   "source": [
    "## Codice funzionante versione originale\n",
    "Per mostrare le differenze prestazionali tra la versione originale del progetto e quella ottimizzata dal gruppo è necessario eseguire la cella sottostante. Il codice, infatti, presentava inizialmente degli errori che non ne permettavano l'esecuzione."
   ]
  },
  {
   "cell_type": "code",
   "execution_count": 28,
   "metadata": {},
   "outputs": [
    {
     "data": {
      "text/plain": [
       "bool3dEx (generic function with 1 method)"
      ]
     },
     "metadata": {},
     "output_type": "display_data"
    }
   ],
   "source": [
    "function chainbasis2solidsEx(V,copEV,copFE,copCF)\n",
    "    CF = [findnz(copCF[k,:])[1] for k=1:copCF.m]\n",
    "    FE = [findnz(copFE[k,:])[1] for k=1:copFE.m]\n",
    "    EV = [findnz(copEV[k,:])[1] for k=1:copEV.m]\n",
    "\n",
    "    FEs = []\n",
    "    EVs = []\n",
    "    FVs = []\n",
    "    for k=1:copCF.m\n",
    "        push!( FEs, [collect(Set(GL.Cat([e for e in FE[f]]))) for f in CF[k]] )\n",
    "        push!( EVs, [[EV[e] for e in FE[f]] for f in CF[k]] )\n",
    "        push!( FVs, [collect(Set(GL.Cat([EV[e] for e in FE[f]]))) for f in CF[k]] )\n",
    "    end\n",
    "    pols = collect(zip(EVs,FVs,FEs))\n",
    "    W = convert(Lar.Points,V')\n",
    "    return W,pols,CF\n",
    "end\n",
    "\n",
    "function internalpointsEx(V,copEV,copFE,copCF)\n",
    "\n",
    "    U,pols,CF = chainbasis2solidsEx(V,copEV,copFE,copCF)\n",
    "\n",
    "    innerpoints = []\n",
    "    intersectedfaces = []\n",
    "    for k=1:length(pols)\n",
    "        (EV,FV,FE),Fs = pols[k],CF[k]\n",
    "        EV = convert(Lar.Cells,collect(Set(GL.Cat(EV))))\n",
    "        points,facenumber = Lar.getinternalpoint(V,EV,FV,Fs, copEV,copFE)\n",
    "        push!(innerpoints,points)\n",
    "        push!(intersectedfaces,facenumber)\n",
    "    end\n",
    "    return innerpoints,intersectedfaces\n",
    "end\n",
    "\n",
    "function bool3dEx(assembly)\n",
    "\n",
    "    V,FV,EV = Lar.struct2lar(assembly)\n",
    "    cop_EV = convert(Lar.ChainOp, Lar.coboundary_0(EV::Lar.Cells));\n",
    "    cop_FE = Lar.coboundary_1(V, FV::Lar.Cells, EV::Lar.Cells);\n",
    "    W = convert(Lar.Points, V');\n",
    "    V, copEV, copFE, copCF = Lar.space_arrangement( W, cop_EV, cop_FE)\n",
    "    W = convert(Lar.Points, V');\n",
    "\n",
    "    innerpoints,intersectedfaces = internalpointsEx(W,copEV,copFE,copCF[2:end,:])\n",
    "\n",
    "    listOfModels = Lar.evalStruct(assembly)\n",
    "    inputfacenumbers = [length(listOfModels[k][2]) for k=1:length(listOfModels)]\n",
    "    cumulative = cumsum([0;inputfacenumbers]).+1\n",
    "    fspans = collect(zip(cumulative[1:end-1], cumulative[2:end].-1))\n",
    "    span(h) = [j for j=1:length(fspans) if fspans[j][1]<=h<=fspans[j][2] ]\n",
    "\n",
    "    V,FV,EV = Lar.struct2lar(assembly)\n",
    "    containmenttest = Lar.testinternalpoint(V,EV,FV)\n",
    "\n",
    "    boolmatrix = BitArray(undef, length(innerpoints)+1, length(fspans)+1)\n",
    "    boolmatrix[1,1] = 1\n",
    "    for (k,point) in enumerate(innerpoints)\n",
    "        cells = containmenttest(point)\n",
    "\n",
    "        rows = [span(h) for h in cells]\n",
    "        for l in GL.Cat(rows)\n",
    "            boolmatrix[k+1,l+1] = 1\n",
    "        end\n",
    "    end\n",
    "    return W, (copEV, copFE, copCF), boolmatrix\n",
    "end"
   ]
  },
  {
   "cell_type": "markdown",
   "metadata": {},
   "source": [
    "## Codice sviluppato e ottimizzato"
   ]
  },
  {
   "cell_type": "code",
   "execution_count": 29,
   "metadata": {},
   "outputs": [],
   "source": [
    "using LinearAlgebraicRepresentation\n",
    "Lar = LinearAlgebraicRepresentation; \n",
    "using IntervalTrees, LinearAlgebra, SparseArrays\n",
    "using Base.Threads"
   ]
  },
  {
   "cell_type": "code",
   "execution_count": 30,
   "metadata": {},
   "outputs": [
    {
     "data": {
      "text/plain": [
       "setTileBool"
      ]
     },
     "metadata": {},
     "output_type": "display_data"
    }
   ],
   "source": [
    "\"\"\"\n",
    "    setTileBool(box)(point)\n",
    "\n",
    "# Explanation\n",
    "\n",
    "Returns the tile code of an edge.\n",
    "\n",
    "# Arguments\n",
    "\n",
    "- `box::Tuple{Float64, Float64, Float64, Float64}`\n",
    "- `point::Vector{Float64}`\n",
    "\n",
    "# Return\n",
    "\n",
    "- `tileCodeBool::Int64`\n",
    "\"\"\"\n",
    "@inline function setTileBool(box)\n",
    "    b1, b2, b3, b4 = box\n",
    "    function tileCodeBool(point)\n",
    "        x, y = point\n",
    "        code = 0\n",
    "        if y > b1\n",
    "            code = code | 1\n",
    "        end\n",
    "        if y < b2\n",
    "            code = code | 2\n",
    "        end\n",
    "        if x > b3\n",
    "            code = code | 4\n",
    "        end\n",
    "        if x < b4\n",
    "            code = code | 8\n",
    "        end\n",
    "        return code\n",
    "    end\n",
    "    return tileCodeBool\n",
    "end"
   ]
  },
  {
   "cell_type": "code",
   "execution_count": 31,
   "metadata": {},
   "outputs": [
    {
     "data": {
      "text/plain": [
       "pointInPolygonClassificationBool"
      ]
     },
     "metadata": {},
     "output_type": "display_data"
    }
   ],
   "source": [
    "\"\"\"\n",
    "    pointInPolygonClassificationBool(V, EV)(pnt)\n",
    "\n",
    "# Explanation\n",
    "\n",
    "Determines whether a point is inside or outside a polygon. It is a specific version used for the bool2d function.\n",
    "\n",
    "# Arguments\n",
    "- `V::Adjoint{Float64, Matrix{Float64}}`\n",
    "- `EV::Vector{Vector{Int64}}`\n",
    "- `pnt::Vector{Float64}`\n",
    "\n",
    "# Return\n",
    "- `p_in::String` or `p_out::String`\n",
    "\"\"\"\n",
    "function pointInPolygonClassificationBool(V, EV)\n",
    "    function pointInPolygonClassification0Bool(pnt)\n",
    "        x, y = pnt\n",
    "        xmin, xmax, ymin, ymax = x, x, y, y\n",
    "        tilecodeBool = setTileBool([ymax, ymin, xmax, xmin])\n",
    "        count = 0\n",
    "        for edge in EV\n",
    "            p1, p2 = V[:, edge[1]], V[:, edge[2]]\n",
    "            c1, c2 = tilecodeBool(p1), tilecodeBool(p2)\n",
    "            (x1, y1), (x2, y2) = p1, p2\n",
    "            c_edge, c_int = c1 ⊻ c2, c1 & c2\n",
    "\n",
    "            if c_edge == 3 && c_int == 4\n",
    "                count += 1\n",
    "            elseif c_edge == 15\n",
    "                x_int = ((y - y2) * (x1 - x2) / (y1 - y2)) + x2\n",
    "                if x_int > x\n",
    "                    count += 1\n",
    "                end\n",
    "            end\n",
    "        end\n",
    "        if (round(count) % 2) == 1\n",
    "            return \"p_in\"\n",
    "        else\n",
    "            return \"p_out\"\n",
    "        end\n",
    "    end\n",
    "    return pointInPolygonClassification0Bool\n",
    "end"
   ]
  },
  {
   "cell_type": "code",
   "execution_count": 32,
   "metadata": {},
   "outputs": [
    {
     "data": {
      "text/plain": [
       "spaceindex"
      ]
     },
     "metadata": {},
     "output_type": "display_data"
    }
   ],
   "source": [
    "\"\"\"\n",
    "\tspaceindex(point3d)(model)\n",
    "\n",
    "Compute the set of face boxes of possible intersection with a point-ray.\n",
    "Work in 3D, where the ray direction is parallel to the z-axis.\n",
    "Return an array of indices of face.\n",
    "\n",
    "# Usage\n",
    "```jldoctest\n",
    "julia> V,(VV,EV,FV,CV) = Lar.cuboidGrid([1,1,1],true)\n",
    "\n",
    "julia> spaceindex([.5,.5,.5])((V,FV))\n",
    "3-element Array{Int64,1}:\n",
    " 5\n",
    " 6\n",
    "```\n",
    "\"\"\"\n",
    "function spaceindex(point3d::Array{Float64,1})::Function\n",
    "    function spaceindex0(model::Lar.LAR)::Array{Int,1}\n",
    "        V, CV = copy(model[1]), copy(model[2])\n",
    "        V = [V point3d]\n",
    "        dim, idx = size(V)\n",
    "        push!(CV, [idx, idx, idx])\n",
    "        cellpoints = [V[:, CV[k]]::Lar.Points for k = 1:length(CV)]\n",
    "        #----------------------------------------------------------\n",
    "        bboxes = [hcat(Lar.boundingbox(cell)...) for cell in cellpoints]\n",
    "        xboxdict = Lar.coordintervals(1, bboxes)\n",
    "        yboxdict = Lar.coordintervals(2, bboxes)\n",
    "        # xs,ys are IntervalTree type\n",
    "        xs = IntervalTrees.IntervalMap{Float64,Array}()\n",
    "        for (key, boxset) in xboxdict\n",
    "            xs[tuple(key...)] = boxset\n",
    "        end\n",
    "        ys = IntervalTrees.IntervalMap{Float64,Array}()\n",
    "        for (key, boxset) in yboxdict\n",
    "            ys[tuple(key...)] = boxset\n",
    "        end\n",
    "        xcovers = Lar.boxcovering(bboxes, 1, xs)\n",
    "        ycovers = Lar.boxcovering(bboxes, 2, ys)\n",
    "        covers = [intersect(pair...) for pair in zip(xcovers, ycovers)]\n",
    "\n",
    "        # remove each cell from its cover\n",
    "        pointcover = setdiff(covers[end], [idx + 1])\n",
    "        return pointcover[1:end-1]\n",
    "    end\n",
    "    return spaceindex0\n",
    "end"
   ]
  },
  {
   "cell_type": "code",
   "execution_count": 33,
   "metadata": {},
   "outputs": [
    {
     "data": {
      "text/plain": [
       "rayintersection"
      ]
     },
     "metadata": {},
     "output_type": "display_data"
    }
   ],
   "source": [
    "\"\"\"\n",
    "\trayintersection(point3d::Array{Float64})(V,FV,face::Int)\n",
    "\n",
    "# Explanation\n",
    "Compute the intersection point of the vertical line through `point3d` w `face`.\n",
    "If the face is parallel to `z axis` return `false`.\n",
    "# Usage\n",
    "```jldoctest\n",
    "julia> V,(VV,EV,FV,CV) = Lar.simplex(3,true);\n",
    "\n",
    "julia> V\n",
    "3×4 Array{Float64,2}:\n",
    " 0.0  1.0  0.0  0.0\n",
    " 0.0  0.0  1.0  0.0\n",
    " 0.0  0.0  0.0  1.0\n",
    "\n",
    "julia> FV\n",
    "4-element Array{Array{Int64,1},1}:\n",
    " [1, 2, 3]\n",
    " [1, 2, 4]\n",
    " [1, 3, 4]\n",
    " [2, 3, 4]\n",
    "\n",
    " julia> Lar.rayintersection([.333,.333,0])(V,FV,4)\n",
    " 3-element Array{Float64,1}:\n",
    "  0.333\n",
    "  0.333\n",
    "  0.3340000000000001\n",
    "```\n",
    "\"\"\"\n",
    "function rayintersection(point3d)\n",
    "    function rayintersection0(V, FV, face::Int)\n",
    "        l0, l = point3d, [0, 0, 1.0]\n",
    "        ps = V[:, FV[face]]\n",
    "        p0 = ps[:, 1]\n",
    "        v1, v2 = ps[:, 2] - p0, ps[:, 3] - p0\n",
    "        n = LinearAlgebra.normalize(cross(v1, v2))\n",
    "\n",
    "        denom = dot(n, l)\n",
    "        if (abs(denom) > 1e-8)\n",
    "            p0l0 = p0 - l0\n",
    "            t = dot(p0l0, n) / denom\n",
    "            if t > 0\n",
    "                return l0 + t * l\n",
    "            end\n",
    "        else\n",
    "            return false\n",
    "        end\n",
    "    end\n",
    "    return rayintersection0\n",
    "end"
   ]
  },
  {
   "cell_type": "code",
   "execution_count": 34,
   "metadata": {},
   "outputs": [
    {
     "data": {
      "text/plain": [
       "planemap"
      ]
     },
     "metadata": {},
     "output_type": "display_data"
    }
   ],
   "source": [
    "\"\"\"\n",
    "\tplanemap(V,copEV,copFE,face)(point)\n",
    "\n",
    "# Arguments\n",
    "\n",
    "- `V::Matrix{Float64}`\n",
    "- `copEV::SparseMatrixCSC{Int8, Int64}`\n",
    "- `copFE::SparseMatrixCSC{Int8, Int64}`\n",
    "- `face::Int64`\n",
    "\n",
    "# Explanation\n",
    "\n",
    "Tranform the 3D face and the 3D point in their homologous 2D, in order to test for containment.\n",
    "\"\"\"\n",
    "function planemap(V, copEV, copFE, face)\n",
    "    fv, edges = Lar.vcycle(copEV, copFE, face)\n",
    "    function planemap0(point)\n",
    "        vs = V[:, fv]\n",
    "        point = point .- vs[:, 1]\n",
    "        vs = vs .- vs[:, 1]\n",
    "        u, v = edges[1]\n",
    "        z, w = [[z, w] for (z, w) in edges if z == v][1]\n",
    "        v1 = vs[:, u] - vs[:, v]\n",
    "        v2 = vs[:, w] - vs[:, v]\n",
    "        v3 = cross(v2, v1)\n",
    "        M = [v1 v2 v3]\n",
    "        vs = inv(M) * [vs point]\n",
    "        outvs = vs[1:2, 1:end-1]\n",
    "        outpoint = vs[1:2, end]\n",
    "        return outvs, edges, outpoint\n",
    "    end\n",
    "    return planemap0\n",
    "end"
   ]
  },
  {
   "cell_type": "code",
   "execution_count": 35,
   "metadata": {},
   "outputs": [
    {
     "data": {
      "text/plain": [
       "settestpoints"
      ]
     },
     "metadata": {},
     "output_type": "display_data"
    }
   ],
   "source": [
    "\"\"\"\n",
    "    settestpoints(V, FV, Fs, copEV, copFE)\n",
    "    \n",
    "# Arguments\n",
    "- `V::Matrix{Float64}`\n",
    "- `FV::Vector{Vector{Int64}}`\n",
    "- `Fs::Vector{Int64}`\n",
    "- `copEV::SparseMatrixCSC{Int8, Int64}`\n",
    "- `copFE::SparseMatrixCSC{Int8, Int64}`\n",
    "\n",
    "# Return\n",
    "- `(ptest1, ptest2)::Tuple{Vector{Float64}, Vector{Float64}}`\n",
    "\"\"\"\n",
    "function settestpoints(V, FV, Fs, copEV, copFE)\n",
    "    fdict = Dict(zip(Fs, 1:length(Fs)))\n",
    "    countKey = 1\n",
    "    f = Fs[1]\n",
    "    e = findnz(copFE[f, :])[1][1] \n",
    "    f1 = findnz(copFE[:, e])[1][countKey]\n",
    "    while !haskey(fdict, f1)\n",
    "        countKey = countKey + 1\n",
    "        f1 = findnz(copFE[:, e])[1][countKey]\n",
    "    end\n",
    "    f2 = findnz(copFE[:, e])[1][countKey+1]\n",
    "    while !haskey(fdict, f2)\n",
    "        countKey = countKey + 1\n",
    "        f2 = findnz(copFE[:, e])[1][countKey]\n",
    "    end\n",
    "    v1, v2 = findnz(copEV[e, :])[1] \n",
    "    V1 = FV[fdict[f1]]\n",
    "    V2 = FV[fdict[f2]]\n",
    "    v1, v2 = intersect(V1, V2)\n",
    "    t1 = V[:, v1], V[:, v2], V[:, [v for v in V1 if v ≠ v1 && v ≠ v2][1]]\n",
    "    t2 = V[:, v2], V[:, v1], V[:, [v for v in V2 if v ≠ v1 && v ≠ v2][1]]\n",
    "    n1 = LinearAlgebra.normalize(cross(t1[2] - t1[1], t1[3] - t1[1]))\n",
    "    n2 = LinearAlgebra.normalize(cross(t2[2] - t2[1], t2[3] - t2[1]))\n",
    "    p0 = (V[:, v1] + V[:, v2]) ./ 2\n",
    "    n = n1 + n2\n",
    "    ϵ = 1.0e-4\n",
    "    ptest1 = p0 + ϵ * n\n",
    "    ptest2 = p0 - ϵ * n\n",
    "    return ptest1, ptest2\n",
    "end"
   ]
  },
  {
   "cell_type": "code",
   "execution_count": 36,
   "metadata": {},
   "outputs": [
    {
     "data": {
      "text/plain": [
       "testinternalpoint"
      ]
     },
     "metadata": {},
     "output_type": "display_data"
    }
   ],
   "source": [
    "\"\"\"\n",
    "\ttestinternalpoint(V, EV, FV)\n",
    "\n",
    "# Arguments\n",
    "- `V::Matrix{Float64}`\n",
    "- `EV::Vector{Vector{Int64}}`\n",
    "- `FV::Vector{Vector{Int64}}`\n",
    "\n",
    "# Return\n",
    "- `intersectedfaces::Vector{Int64}`\n",
    "\"\"\"\n",
    "function testinternalpoint(V, EV, FV)\n",
    "    copEV = Lar.lar2cop(EV)\n",
    "    copFV = Lar.lar2cop(FV)\n",
    "    copFE = copFV * copEV'\n",
    "    I, J, Val = findnz(copFE)\n",
    "    triple = zip([(i, j, 1) for (i, j, v) in zip(I, J, Val) if v == 2]...)\n",
    "    I, J, Val = map(collect, triple)\n",
    "    Val = convert(Array{Int8,1}, Val)\n",
    "    copFE = sparse(I, J, Val)\n",
    "    function testinternalpoint0(testpoint)\n",
    "\n",
    "        intersectedfaces = []\n",
    "\n",
    "        faces = spaceindex(testpoint)((V, FV))\n",
    "        depot = []\n",
    "\n",
    "        for face in faces\n",
    "            value = rayintersection(testpoint)(V, FV, face)\n",
    "            if typeof(value) == Array{Float64,1}\n",
    "                push!(depot, (face, value))\n",
    "            end\n",
    "        end\n",
    "\n",
    "        for (face, point3d) in depot\n",
    "            vs, edges, point2d = planemap(V, copEV, copFE, face)(point3d)\n",
    "            classify = pointInPolygonClassificationBool(vs, edges)\n",
    "            inOut = classify(point2d)\n",
    "            if inOut != \"p_out\"\n",
    "                push!(intersectedfaces, face)\n",
    "            end\n",
    "        end\n",
    "        return intersectedfaces\n",
    "    end\n",
    "    return testinternalpoint0\n",
    "end"
   ]
  },
  {
   "cell_type": "code",
   "execution_count": 37,
   "metadata": {},
   "outputs": [
    {
     "data": {
      "text/plain": [
       "getinternalpoint"
      ]
     },
     "metadata": {},
     "output_type": "display_data"
    }
   ],
   "source": [
    "\"\"\"\n",
    "    getinternalpoint(V,EV,FV,Fs, copEV,copFE,z,ptest1,ptest2)\n",
    "\n",
    "# Arguments\n",
    "- `V::Matrix{Float64}`\n",
    "- `EV::Vector{Vector{Int64}}`\n",
    "- `FV::Vector{Vector{Int64}}`\n",
    "- `Fs::Vector{Int64}`\n",
    "- `copEV::SparseMatrixCSC{Int8, Int64}`\n",
    "- `copFE::SparseMatrixCSC{Int8, Int64}`\n",
    "- `z::Vector{Any}`\n",
    "- `ptest1::Vector{Int64}`\n",
    "- `ptest2::Vector{Int64}`\n",
    "\n",
    "# Return\n",
    "- `ptest1::Vector{Int64}` or `ptest2::Vector{Int64}`\n",
    "\n",
    "# Explanation\n",
    "- For each test point compute the face planes intersected by vertical ray\n",
    "- Transform each plane in 2D and look whether the intersection point is internal\n",
    "- Return the test point with odd numeber of ray intersections\n",
    "\"\"\"\n",
    "function getinternalpoint(V, FV, Fs, copEV, copFE, z, ptest1, ptest2)\n",
    "\n",
    "    for (f, face) in collect(enumerate(Fs))\n",
    "        ret1 = rayintersection(ptest1)(V, FV, f)\n",
    "        if typeof(ret1) == Array{Float64,1}\n",
    "            push!(z[threadid()], (face, ret1))\n",
    "        end\n",
    "    end\n",
    "\n",
    "    k1 = 0\n",
    "    for (face, point3d) in z[threadid()]\n",
    "        vs, edges, point2d = planemap(V, copEV, copFE, face)(point3d)\n",
    "        classify = pointInPolygonClassificationBool(vs, edges)\n",
    "        inOut = classify(point2d)\n",
    "        if inOut == \"p_in\"\n",
    "            k1 += 1\n",
    "        end\n",
    "    end\n",
    "    if k1 % 2 == 1\n",
    "        return ptest1\n",
    "    else\n",
    "        return ptest2\n",
    "    end\n",
    "end"
   ]
  },
  {
   "cell_type": "code",
   "execution_count": 38,
   "metadata": {},
   "outputs": [
    {
     "data": {
      "text/plain": [
       "chainbasis2solids"
      ]
     },
     "metadata": {},
     "output_type": "display_data"
    }
   ],
   "source": [
    "\"\"\"\n",
    "    chainbasis2solids(copEV, copFE, copCF)\n",
    "\n",
    "# Arguments\n",
    "- `copEV::SparseMatrixCSC{Int8, Int64}`\n",
    "- `copFE::SparseMatrixCSC{Int8, Int64}`\n",
    "- `copCF::SparseMatrixCSC{Int8, Int64}`\n",
    "\n",
    "# Return\n",
    "- (`FVs, CF)::Tuple{Vector{Vector{Vector{Int64}}}, Vector{Vector{Int64}}}`\n",
    "\"\"\"\n",
    "function chainbasis2solids(copEV, copFE, copCF)\n",
    "    CF = [findnz(copCF[k, :])[1] for k = 1:copCF.m]\n",
    "    FE = [findnz(copFE[k, :])[1] for k = 1:copFE.m]\n",
    "    EV = [findnz(copEV[k, :])[1] for k = 1:copEV.m]\n",
    "\n",
    "    FVs = Vector{Vector{Vector{Int64}}}(undef, copCF.m)\n",
    "\n",
    "    @threads for k = 1:copCF.m \n",
    "        FVs[k] = [collect(Set(GL.Cat([EV[e] for e in FE[f]]))) for f in CF[k]]\n",
    "    end\n",
    "\n",
    "    return FVs, CF\n",
    "end"
   ]
  },
  {
   "cell_type": "code",
   "execution_count": 39,
   "metadata": {},
   "outputs": [
    {
     "data": {
      "text/plain": [
       "internalpoints"
      ]
     },
     "metadata": {},
     "output_type": "display_data"
    }
   ],
   "source": [
    "\"\"\"\n",
    "    internalpoints(V, copEV, copFE, copCF)\n",
    "# Arguments\n",
    "- `V::Matrix{Float64}`\n",
    "- `copEV::SparseMatrixCSC{Int8, Int64}`\n",
    "- `copFE::SparseMatrixCSC{Int8, Int64}`\n",
    "- `copCF::SparseMatrixCSC{Int8, Int64}`\n",
    "\n",
    "# Return\n",
    "- `innerpoints::Vector{Any}`\n",
    "\n",
    "# Explanation\n",
    "- Transform each 3-cell in a solid\n",
    "- Compute, for each 3-cell, one *internal point*\n",
    "\"\"\"\n",
    "function internalpoints(V, copEV, copFE, copCF)\n",
    "\n",
    "    FVs, CF = chainbasis2solids(copEV, copFE, copCF)\n",
    "\n",
    "    innerpoints = Array{Any}(undef, length(FVs))\n",
    "    ptestArray = Array{Any}(undef, length(FVs))\n",
    "\n",
    "    z = Vector{Any}()\n",
    "\n",
    "    for _ in 1:Threads.nthreads()\n",
    "        push!(z, Any[])\n",
    "    end\n",
    "\n",
    "    for l in 1:length(FVs)\n",
    "        ptestArray[l] = settestpoints(V, FVs[l], CF[l], copEV, copFE)\n",
    "    end\n",
    "\n",
    "    for k in 1:length(FVs) \n",
    "        points = getinternalpoint(V, FVs[k], CF[k], copEV, copFE, z, ptestArray[k][1], ptestArray[k][2])\n",
    "        innerpoints[k] = points\n",
    "        z[threadid()] = []\n",
    "    end\n",
    "\n",
    "    return innerpoints\n",
    "end"
   ]
  },
  {
   "cell_type": "code",
   "execution_count": 40,
   "metadata": {},
   "outputs": [
    {
     "data": {
      "text/plain": [
       "bool3d"
      ]
     },
     "metadata": {},
     "output_type": "display_data"
    }
   ],
   "source": [
    "\"\"\"\n",
    "    bool3d(assembly)\n",
    "\n",
    "# Arguments\n",
    "- `assembly::LinearAlgebraicRepresentation.Struct`\n",
    "\n",
    "# Returns\n",
    "- `W::Matrix{Float64}`\n",
    "- `copEV::SparseMatrixCSC{Int8, Int64}`\n",
    "- `copFE::SparseMatrixCSC{Int8, Int64}`\n",
    "- `copCF::SparseMatrixCSC{Int8, Int64}`\n",
    "- `boolmatrix::BitMatrix`\n",
    "\n",
    "# Usage\n",
    "\n",
    "```julia\n",
    "using LARgenerators, SparseArrays, Base.Threads\n",
    "import LinearAlgebraicRepresentation as Lar\n",
    "\n",
    "n, m, p = 1, 1, 1\n",
    "V, (VV, EV, FV, CV) = Lar.cuboidGrid([n, m, p], true)\n",
    "cube = V, FV, EV\n",
    "\n",
    "assembly = Lar.Struct([ cube,\n",
    "    Lar.t(.3,.4,.25), Lar.r(pi/5,0,0), Lar.r(0,0,pi/12), cube,\n",
    "    Lar.t(-.2,.4,-.2), Lar.r(0,pi/5,0), Lar.r(0,pi/12,0), cube\n",
    "])\n",
    "\n",
    "W, copEV, copFE, copCF, boolmatrix = LARgenerators.bool3d(assembly)\n",
    "```\n",
    "\n",
    "# Explanation \n",
    "1. After the arrangement, extract all the d-cells from (d-1)-coboundary as isolated polyhedra.\n",
    "2. Then compute a single interior point for each of them.\n",
    "3. Then compare each such point against all input boundaries, in order to compute those which it was interior to. Extend this point membership as 3-cell containment within the relative input solids.\n",
    "4. The point membership with a boundary consists in the parity count of the intersection points of a vertical ray starting at the test point, with the boundary surface.\n",
    "\"\"\"\n",
    "function bool3d(assembly)\n",
    "\n",
    "    V, FV, EV = Lar.struct2lar(assembly)\n",
    "    cop_EV = convert(Lar.ChainOp, Lar.coboundary_0(EV::Lar.Cells))\n",
    "    cop_FE = Lar.coboundary_1(V, FV::Lar.Cells, EV::Lar.Cells)\n",
    "    W = convert(Lar.Points, V')\n",
    "\n",
    "    Z::Matrix{Float64}, copEV::SparseMatrixCSC{Int8,Int64}, copFE::SparseMatrixCSC{Int8,Int64}, copCF::SparseMatrixCSC{Int8,Int64} = Lar.space_arrangement(W, cop_EV, cop_FE)\n",
    "    W = convert(Lar.Points, Z')\n",
    "\n",
    "    innerpoints = internalpoints(W, copEV, copFE, copCF[2:end, :])\n",
    "\n",
    "    listOfModels = Lar.evalStruct(assembly)\n",
    "    inputfacenumbers = [length(listOfModels[k][2]) for k = 1:length(listOfModels)]\n",
    "    cumulative = cumsum([0; inputfacenumbers]) .+ 1\n",
    "    fspans = collect(zip(cumulative[1:end-1], cumulative[2:end] .- 1))\n",
    "    span(h) = [j for j = 1:length(fspans) if fspans[j][1] <= h <= fspans[j][2]]\n",
    "\n",
    "    containmenttest = testinternalpoint(V, EV, FV)\n",
    "    boolmatrix = BitArray(undef, length(innerpoints) + 1, length(fspans) + 1)\n",
    "    boolmatrix[1, 1] = 1\n",
    "\n",
    "    for (k, point) in collect(enumerate(innerpoints))\n",
    "        cells = containmenttest(point)\n",
    "        rows = [span(h) for h in cells]\n",
    "        for l in GL.Cat(rows)\n",
    "            boolmatrix[k+1, l+1] = 1\n",
    "        end\n",
    "    end\n",
    "    return W, copEV, copFE, copCF, boolmatrix\n",
    "end"
   ]
  },
  {
   "cell_type": "markdown",
   "metadata": {},
   "source": [
    "## Esempio versione originale"
   ]
  },
  {
   "cell_type": "code",
   "execution_count": 41,
   "metadata": {},
   "outputs": [
    {
     "name": "stdout",
     "output_type": "stream",
     "text": [
      "0%\r22%\r34%\r45%\r53%\r68%\r84%\r91%\rEVs = [[[13, 14], [16, 17], [13, 17], [14, 16]], [[22, 26], [13, 14], [22, 23], [14, 23], [13, 26]], [[22, 23], [23, 28], [22, 28]], [[13, 17], [17, 40], [13, 26], [26, 40]], [[22, 26], [28, 43], [40, 43], [26, 40], [22, 28]], [[16, 17], [17, 40], [16, 43], [40, 43]], [[28, 43], [14, 16], [14, 23], [23, 28], [16, 43]]]\n",
      "triangulated_faces = Any[[[14, 13, 16], [17, 16, 13]], [[26, 22, 13], [23, 14, 13], [23, 13, 22]], [[22, 28, 23]], [[17, 13, 40], [26, 40, 13]], [[26, 22, 40], [40, 28, 43], [28, 40, 22]], [[17, 16, 40], [43, 40, 16]], [[14, 16, 23], [23, 43, 28], [43, 23, 16]]]\n"
     ]
    }
   ],
   "source": [
    "using LARgenerators, SparseArrays, Base.Threads\n",
    "import ViewerGL as GL\n",
    "import LinearAlgebraicRepresentation as Lar\n",
    "\n",
    "T = 3\n",
    "\n",
    "n, m, p = 1, 1, 1\n",
    "V, (VV, EV, FV, CV) = Lar.cuboidGrid([n, m, p], true)\n",
    "cube = V, FV, EV\n",
    "\n",
    "#= assembly = Lar.Struct([\n",
    "    Lar.Struct([Lar.t(rand(-0.4:0.1:0.4), rand(-0.4:0.1:0.4), rand(-0.4:0.1:0.4)), Lar.r(rand(-0.5:0.1:0.5), 0, 0), cube]) for _ in 1:T\n",
    "]) =#\n",
    "\n",
    "assembly = Lar.Struct([ cube,\n",
    "    Lar.t(.3,.4,.25), Lar.r(pi/5,0,0), Lar.r(0,0,pi/12), cube,\n",
    "    Lar.t(-.2,.4,-.2), Lar.r(0,pi/5,0), Lar.r(0,pi/12,0), cube\n",
    "])\n",
    "\n",
    "\n",
    "V, FV = Lar.struct2lar(assembly)\n",
    "\n",
    "meshes = []\n",
    "for k = 1:length(FV)\n",
    "    color = GL.MayaColors[k%12+1] - (rand(Float64, 4) * 0.1)\n",
    "    push!(meshes, GL.GLGrid(V, [FV[k]], color, 0.9))\n",
    "end\n",
    "GL.VIEW(meshes);\n",
    "\n",
    "W, copEV, copFE, copCF, boolmatrix = LARgenerators.bool3d(assembly)\n",
    "Matrix(boolmatrix)\n",
    "\n",
    "A = boolmatrix[:, 2]\n",
    "B = boolmatrix[:, 3]\n",
    "C = boolmatrix[:, 4]\n",
    "\n",
    "AorBorC = A .| B .| C\n",
    "AandBandC = A .& B .& C\n",
    "AxorBxorC = A .⊻ B .⊻ C\n",
    "AminBminC = .&(A, .!B, .!C)\n",
    "\n",
    "difference = Matrix(copCF)' * Int.(AandBandC)\n",
    "xor = Matrix(copCF)' * Int.(AxorBxorC)\n",
    "or = Matrix(copCF)' * Int.(AorBorC)\n",
    "min = Matrix(copCF)' * Int.(AminBminC)\n",
    "\n",
    "V, CVs, FVs, EVs = Lar.pols2tria(W, copEV, copFE, copCF, difference) # part of assembly\n",
    "\n",
    "GL.VIEW(GL.GLExplode(V, FVs, 1.01, 1.01, 1.01, 99, 0.5));\n",
    "GL.VIEW(GL.GLExplode(V, EVs, 1, 1, 1, 1, 1));"
   ]
  },
  {
   "cell_type": "markdown",
   "metadata": {},
   "source": [
    "## Performance del codice sviluppato ed ottimizzato"
   ]
  },
  {
   "cell_type": "code",
   "execution_count": 24,
   "metadata": {},
   "outputs": [
    {
     "name": "stdout",
     "output_type": "stream",
     "text": [
      "0%\r22%\r34%\r45%\r53%\r68%\r84%\r91%\r"
     ]
    },
    {
     "name": "stdout",
     "output_type": "stream",
     "text": [
      "0%\r22%\r34%\r45%\r53%\r68%\r84%\r91%\r"
     ]
    },
    {
     "name": "stdout",
     "output_type": "stream",
     "text": [
      "0%\r22%\r34%\r45%\r53%\r68%\r84%\r91%\r0%\r22%\r34%\r45%\r53%\r68%\r84%\r91%\r"
     ]
    },
    {
     "name": "stdout",
     "output_type": "stream",
     "text": [
      "0%\r22%\r34%\r45%\r53%\r68%\r84%\r91%\r0%\r22%\r34%\r45%\r53%\r68%\r84%\r91%\r"
     ]
    },
    {
     "name": "stdout",
     "output_type": "stream",
     "text": [
      "0%\r22%\r34%\r45%\r53%\r68%\r84%\r91%\r"
     ]
    },
    {
     "name": "stdout",
     "output_type": "stream",
     "text": [
      "0%\r22%\r34%\r45%\r53%\r68%\r84%\r91%\r0%\r22%\r34%\r45%\r53%\r68%\r84%\r91%\r"
     ]
    },
    {
     "name": "stdout",
     "output_type": "stream",
     "text": [
      "0%\r22%\r34%\r45%\r53%\r68%\r84%\r91%\r0%\r22%\r34%\r45%\r53%\r68%\r84%\r91%\r"
     ]
    },
    {
     "name": "stdout",
     "output_type": "stream",
     "text": [
      "0%\r22%\r34%\r45%\r53%\r68%\r84%\r91%\r0%\r22%\r34%\r45%\r53%\r68%\r84%\r91%\r"
     ]
    },
    {
     "name": "stdout",
     "output_type": "stream",
     "text": [
      "0%\r22%\r34%\r45%\r53%\r68%\r84%\r91%\r0%\r22%\r34%\r45%\r53%\r68%\r84%\r91%\r"
     ]
    },
    {
     "name": "stdout",
     "output_type": "stream",
     "text": [
      "0%\r22%\r34%\r45%\r53%\r68%\r84%\r91%\r0%\r22%\r34%\r45%\r53%\r68%\r84%\r91%\r"
     ]
    },
    {
     "name": "stdout",
     "output_type": "stream",
     "text": [
      "0%\r22%\r34%\r45%\r53%\r68%\r84%\r91%\r0%\r22%\r34%\r45%\r53%\r68%\r84%\r91%\r"
     ]
    },
    {
     "name": "stdout",
     "output_type": "stream",
     "text": [
      "0%\r22%\r34%\r45%\r53%\r68%\r84%\r91%\r0%\r22%\r34%\r45%\r53%\r68%\r84%\r91%\r"
     ]
    },
    {
     "name": "stdout",
     "output_type": "stream",
     "text": [
      "0%\r22%\r34%\r45%\r53%\r68%\r84%\r91%\r0%\r22%\r34%\r45%\r53%\r68%\r84%\r91%\r"
     ]
    },
    {
     "name": "stdout",
     "output_type": "stream",
     "text": [
      "0%\r22%\r34%\r45%\r53%\r68%\r84%\r91%\r0%\r22%\r34%\r45%\r53%\r68%\r84%\r91%\r"
     ]
    },
    {
     "name": "stdout",
     "output_type": "stream",
     "text": [
      "0%\r22%\r34%\r45%\r53%\r68%\r84%\r91%\r0%\r22%\r34%\r45%\r53%\r68%\r84%\r91%\r"
     ]
    },
    {
     "name": "stdout",
     "output_type": "stream",
     "text": [
      "0%\r22%\r34%\r45%\r53%\r68%\r84%\r91%\r0%\r22%\r34%\r45%\r53%\r68%\r84%\r91%\r"
     ]
    },
    {
     "name": "stdout",
     "output_type": "stream",
     "text": [
      "0%\r22%\r34%\r45%\r53%\r68%\r84%\r91%\r0%\r22%\r34%\r45%\r53%\r68%\r84%\r91%\r"
     ]
    },
    {
     "name": "stdout",
     "output_type": "stream",
     "text": [
      "0%\r22%\r34%\r45%\r53%\r68%\r84%\r91%\r0%\r22%\r34%\r45%\r53%\r68%\r84%\r91%\r"
     ]
    },
    {
     "name": "stdout",
     "output_type": "stream",
     "text": [
      "0%\r22%\r34%\r45%\r53%\r68%\r84%\r91%\r0%\r22%\r34%\r45%\r53%\r68%\r84%\r91%\r"
     ]
    },
    {
     "name": "stdout",
     "output_type": "stream",
     "text": [
      "0%\r22%\r34%\r45%\r53%\r68%\r84%\r91%\r0%\r22%\r34%\r45%\r53%\r68%\r84%\r91%\r"
     ]
    },
    {
     "name": "stdout",
     "output_type": "stream",
     "text": [
      "0%\r22%\r34%\r45%\r53%\r68%\r84%\r91%\r0%\r22%\r34%\r45%\r53%\r68%\r84%\r91%\r"
     ]
    },
    {
     "name": "stdout",
     "output_type": "stream",
     "text": [
      "0%\r22%\r34%\r45%\r53%\r68%\r84%\r91%\r0%\r22%\r34%\r45%\r53%\r68%\r84%\r91%\r"
     ]
    },
    {
     "name": "stdout",
     "output_type": "stream",
     "text": [
      "0%\r22%\r34%\r45%\r53%\r68%\r84%\r91%\r0%\r22%\r34%\r45%\r53%\r68%\r84%\r91%\r"
     ]
    },
    {
     "name": "stdout",
     "output_type": "stream",
     "text": [
      "0%\r22%\r34%\r45%\r53%\r68%\r84%\r91%\r0%\r22%\r34%\r45%\r53%\r68%\r84%\r91%\r"
     ]
    },
    {
     "name": "stdout",
     "output_type": "stream",
     "text": [
      "0%\r22%\r34%\r45%\r53%\r68%\r84%\r91%\r0%\r22%\r34%\r45%\r53%\r68%\r84%\r91%\r"
     ]
    },
    {
     "name": "stdout",
     "output_type": "stream",
     "text": [
      "0%\r22%\r34%\r45%\r53%\r68%\r84%\r91%\r0%\r22%\r34%\r45%\r53%\r68%\r84%\r91%\r"
     ]
    },
    {
     "name": "stdout",
     "output_type": "stream",
     "text": [
      "0%\r22%\r34%\r45%\r53%\r68%\r84%\r91%\r0%\r22%\r34%\r45%\r53%\r68%\r84%\r91%\r"
     ]
    },
    {
     "name": "stdout",
     "output_type": "stream",
     "text": [
      "0%\r22%\r34%\r45%\r53%\r68%\r84%\r91%\r0%\r22%\r34%\r45%\r53%\r68%\r84%\r91%\r"
     ]
    },
    {
     "name": "stdout",
     "output_type": "stream",
     "text": [
      "0%\r22%\r34%\r45%\r53%\r68%\r84%\r91%\r0%\r22%\r34%\r45%\r53%\r68%\r84%\r91%\r"
     ]
    },
    {
     "name": "stdout",
     "output_type": "stream",
     "text": [
      "0%\r22%\r34%\r45%\r53%\r68%\r84%\r91%\r0%\r22%\r34%\r45%\r53%\r68%\r84%\r91%\r"
     ]
    },
    {
     "name": "stdout",
     "output_type": "stream",
     "text": [
      "0%\r22%\r34%\r45%\r53%\r68%\r84%\r91%\r0%\r22%\r34%\r45%\r53%\r68%\r84%\r91%\r"
     ]
    },
    {
     "name": "stdout",
     "output_type": "stream",
     "text": [
      "0%\r22%\r34%\r45%\r53%\r68%\r84%\r91%\r0%\r22%\r34%\r45%\r53%\r68%\r84%\r91%\r"
     ]
    },
    {
     "name": "stdout",
     "output_type": "stream",
     "text": [
      "0%\r22%\r34%\r45%\r53%\r68%\r84%\r91%\r0%\r22%\r34%\r45%\r53%\r68%\r84%\r91%\r"
     ]
    },
    {
     "name": "stdout",
     "output_type": "stream",
     "text": [
      "0%\r22%\r34%\r45%\r53%\r68%\r84%\r91%\r0%\r22%\r34%\r45%\r53%\r68%\r84%\r91%\r"
     ]
    },
    {
     "name": "stdout",
     "output_type": "stream",
     "text": [
      "0%\r22%\r34%\r45%\r53%\r68%\r84%\r91%\r0%\r22%\r34%\r45%\r53%\r68%\r84%\r91%\r"
     ]
    },
    {
     "name": "stdout",
     "output_type": "stream",
     "text": [
      "0%\r22%\r34%\r45%\r53%\r68%\r84%\r91%\r0%\r22%\r34%\r45%\r53%\r68%\r84%\r91%\r"
     ]
    },
    {
     "name": "stdout",
     "output_type": "stream",
     "text": [
      "0%\r22%\r34%\r45%\r53%\r68%\r84%\r91%\r0%\r22%\r34%\r45%\r53%\r68%\r84%\r91%\r"
     ]
    },
    {
     "name": "stdout",
     "output_type": "stream",
     "text": [
      "0%\r22%\r34%\r45%\r53%\r68%\r84%\r91%\r0%\r22%\r34%\r45%\r53%\r68%\r84%\r91%\r"
     ]
    },
    {
     "name": "stdout",
     "output_type": "stream",
     "text": [
      "0%\r22%\r34%\r45%\r53%\r68%\r84%\r91%\r0%\r22%\r34%\r45%\r53%\r68%\r84%\r91%\r"
     ]
    },
    {
     "name": "stdout",
     "output_type": "stream",
     "text": [
      "0%\r22%\r34%\r45%\r53%\r68%\r84%\r91%\r0%\r22%\r34%\r45%\r53%\r68%\r84%\r91%\r"
     ]
    },
    {
     "name": "stdout",
     "output_type": "stream",
     "text": [
      "0%\r22%\r34%\r45%\r53%\r68%\r84%\r91%\r0%\r22%\r34%\r45%\r53%\r68%\r84%\r91%\r"
     ]
    },
    {
     "name": "stdout",
     "output_type": "stream",
     "text": [
      "0%\r22%\r34%\r45%\r53%\r68%\r84%\r91%\r"
     ]
    },
    {
     "name": "stdout",
     "output_type": "stream",
     "text": [
      "0%\r22%\r34%\r45%\r53%\r68%\r84%\r91%\r0%\r22%\r34%\r45%\r53%\r68%\r84%\r91%\r"
     ]
    },
    {
     "name": "stdout",
     "output_type": "stream",
     "text": [
      "0%\r22%\r34%\r45%\r53%\r68%\r84%\r91%\r0%\r22%\r34%\r45%\r53%\r68%\r84%\r91%\r"
     ]
    },
    {
     "name": "stdout",
     "output_type": "stream",
     "text": [
      "0%\r22%\r34%\r45%\r53%\r68%\r84%\r91%\r0%\r22%\r34%\r45%\r53%\r68%\r84%\r91%\r"
     ]
    },
    {
     "name": "stdout",
     "output_type": "stream",
     "text": [
      "0%\r22%\r34%\r45%\r53%\r68%\r84%\r91%\r0%\r22%\r34%\r45%\r53%\r68%\r84%\r91%\r"
     ]
    },
    {
     "name": "stdout",
     "output_type": "stream",
     "text": [
      "0%\r22%\r34%\r45%\r53%\r68%\r84%\r91%\r0%\r22%\r34%\r45%\r53%\r68%\r84%\r91%\r"
     ]
    },
    {
     "name": "stdout",
     "output_type": "stream",
     "text": [
      "0%\r22%\r34%\r45%\r53%\r68%\r84%\r91%\r0%\r22%\r34%\r45%\r53%\r68%\r84%\r91%\r"
     ]
    },
    {
     "name": "stdout",
     "output_type": "stream",
     "text": [
      "0%\r22%\r34%\r45%\r53%\r68%\r84%\r91%\r0%\r22%\r34%\r45%\r53%\r68%\r84%\r91%\r"
     ]
    },
    {
     "name": "stdout",
     "output_type": "stream",
     "text": [
      "0%\r22%\r34%\r45%\r53%\r68%\r84%\r91%\r0%\r22%\r34%\r45%\r53%\r68%\r84%\r91%\r"
     ]
    },
    {
     "name": "stdout",
     "output_type": "stream",
     "text": [
      "0%\r22%\r34%\r45%\r53%\r68%\r84%\r91%\r0%\r22%\r34%\r45%\r53%\r68%\r84%\r91%\r"
     ]
    },
    {
     "name": "stdout",
     "output_type": "stream",
     "text": [
      "0%\r22%\r34%\r45%\r53%\r68%\r84%\r91%\r0%\r22%\r34%\r45%\r53%\r68%\r84%\r91%\r"
     ]
    },
    {
     "name": "stdout",
     "output_type": "stream",
     "text": [
      "0%\r22%\r34%\r45%\r53%\r68%\r84%\r91%\r0%\r22%\r34%\r45%\r53%\r68%\r84%\r91%\r"
     ]
    },
    {
     "name": "stdout",
     "output_type": "stream",
     "text": [
      "0%\r22%\r34%\r45%\r53%\r68%\r84%\r91%\r0%\r22%\r34%\r45%\r53%\r68%\r84%\r91%\r"
     ]
    },
    {
     "name": "stdout",
     "output_type": "stream",
     "text": [
      "0%\r22%\r34%\r45%\r53%\r68%\r84%\r91%\r0%\r22%\r34%\r45%\r53%\r68%\r84%\r91%\r"
     ]
    },
    {
     "name": "stdout",
     "output_type": "stream",
     "text": [
      "0%\r22%\r34%\r45%\r53%\r68%\r84%\r91%\r0%\r22%\r34%\r45%\r53%\r68%\r84%\r91%\r"
     ]
    },
    {
     "name": "stdout",
     "output_type": "stream",
     "text": [
      "0%\r22%\r34%\r45%\r53%\r68%\r84%\r91%\r0%\r22%\r34%\r45%\r53%\r68%\r84%\r91%\r"
     ]
    },
    {
     "name": "stdout",
     "output_type": "stream",
     "text": [
      "0%\r22%\r34%\r45%\r53%\r68%\r84%\r91%\r0%\r22%\r34%\r45%\r53%\r68%\r84%\r91%\r"
     ]
    },
    {
     "name": "stdout",
     "output_type": "stream",
     "text": [
      "0%\r22%\r34%\r45%\r53%\r68%\r84%\r91%\r0%\r22%\r34%\r45%\r53%\r68%\r84%\r91%\r"
     ]
    },
    {
     "name": "stdout",
     "output_type": "stream",
     "text": [
      "0%\r22%\r34%\r45%\r53%\r68%\r84%\r91%\r0%\r22%\r34%\r45%\r53%\r68%\r84%\r91%\r"
     ]
    },
    {
     "name": "stdout",
     "output_type": "stream",
     "text": [
      "0%\r22%\r34%\r45%\r53%\r68%\r84%\r91%\r0%\r22%\r34%\r45%\r53%\r68%\r84%\r91%\r"
     ]
    },
    {
     "name": "stdout",
     "output_type": "stream",
     "text": [
      "0%\r22%\r34%\r45%\r53%\r68%\r84%\r91%\r0%\r22%\r34%\r45%\r53%\r68%\r84%\r91%\r"
     ]
    },
    {
     "name": "stdout",
     "output_type": "stream",
     "text": [
      "0%\r22%\r34%\r45%\r53%\r68%\r84%\r91%\r0%\r22%\r34%\r45%\r53%\r68%\r84%\r91%\r"
     ]
    },
    {
     "name": "stdout",
     "output_type": "stream",
     "text": [
      "0%\r22%\r34%\r45%\r53%\r68%\r84%\r91%\r0%\r22%\r34%\r45%\r53%\r68%\r84%\r91%\r"
     ]
    },
    {
     "name": "stdout",
     "output_type": "stream",
     "text": [
      "0%\r22%\r34%\r45%\r53%\r68%\r84%\r91%\r0%\r22%\r34%\r45%\r53%\r68%\r84%\r91%\r"
     ]
    },
    {
     "name": "stdout",
     "output_type": "stream",
     "text": [
      "0%\r22%\r34%\r45%\r53%\r68%\r84%\r91%\r0%\r22%\r34%\r45%\r53%\r68%\r84%\r91%\r"
     ]
    },
    {
     "name": "stdout",
     "output_type": "stream",
     "text": [
      "0%\r22%\r34%\r45%\r53%\r68%\r84%\r91%\r0%\r22%\r34%\r45%\r53%\r68%\r84%\r91%\r"
     ]
    },
    {
     "name": "stdout",
     "output_type": "stream",
     "text": [
      "0%\r22%\r34%\r45%\r53%\r68%\r84%\r91%\r0%\r22%\r34%\r45%\r53%\r68%\r84%\r91%\r"
     ]
    },
    {
     "name": "stdout",
     "output_type": "stream",
     "text": [
      "0%\r22%\r34%\r45%\r53%\r68%\r84%\r91%\r0%\r22%\r34%\r45%\r53%\r68%\r84%\r91%\r"
     ]
    },
    {
     "name": "stdout",
     "output_type": "stream",
     "text": [
      "0%\r22%\r34%\r45%\r53%\r68%\r84%\r91%\r0%\r22%\r34%\r45%\r53%\r68%\r84%\r91%\r"
     ]
    },
    {
     "name": "stdout",
     "output_type": "stream",
     "text": [
      "0%\r22%\r34%\r45%\r53%\r68%\r84%\r91%\r0%\r22%\r34%\r45%\r53%\r68%\r84%\r91%\r"
     ]
    },
    {
     "name": "stdout",
     "output_type": "stream",
     "text": [
      "0%\r22%\r34%\r45%\r53%\r68%\r84%\r91%\r0%\r22%\r34%\r45%\r53%\r68%\r84%\r91%\r"
     ]
    },
    {
     "name": "stdout",
     "output_type": "stream",
     "text": [
      "0%\r22%\r34%\r45%\r53%\r68%\r84%\r91%\r0%\r22%\r34%\r45%\r53%\r68%\r84%\r91%\r"
     ]
    },
    {
     "name": "stdout",
     "output_type": "stream",
     "text": [
      "0%\r22%\r34%\r45%\r53%\r68%\r84%\r91%\r0%\r22%\r34%\r45%\r53%\r68%\r84%\r91%\r"
     ]
    },
    {
     "name": "stdout",
     "output_type": "stream",
     "text": [
      "0%\r22%\r34%\r45%\r53%\r68%\r84%\r91%\r0%\r22%\r34%\r45%\r53%\r68%\r84%\r91%\r"
     ]
    },
    {
     "name": "stdout",
     "output_type": "stream",
     "text": [
      "0%\r22%\r34%\r45%\r53%\r68%\r84%\r91%\r"
     ]
    },
    {
     "name": "stdout",
     "output_type": "stream",
     "text": [
      "  68.442 ms (445714 allocations: 24.09 MiB)\n"
     ]
    },
    {
     "data": {
      "text/plain": [
       "([0.0 0.0 … 0.3523450000000002 1.103010336951418; 0.0 0.0 … 2.1582775 1.951098135777665; 0.0 1.0 … 0.31964459999999983 0.9470026676010307], sparse([1, 5, 23, 1, 6, 24, 2, 5, 29, 4  …  83, 78, 81, 86, 79, 80, 87, 79, 81, 88], [1, 1, 1, 2, 2, 2, 3, 3, 3, 4  …  46, 47, 47, 47, 48, 48, 48, 49, 49, 49], Int8[-1, -1, -1, 1, -1, -1, -1, 1, -1, -1  …  1, 1, -1, 1, -1, 1, 1, 1, 1, 1], 88, 49), sparse([1, 7, 1, 9, 2, 10, 1, 13, 1, 15  …  40, 45, 39, 46, 41, 47, 42, 44, 42, 47], [1, 1, 2, 2, 3, 3, 4, 4, 5, 5  …  84, 84, 85, 85, 86, 86, 87, 87, 88, 88], Int8[1, 1, -1, 1, 1, -1, 1, -1, -1, 1  …  -1, 1, 1, -1, 1, -1, -1, 1, 1, 1], 47, 88), sparse([1, 5, 2, 7, 1, 5, 3, 6, 4, 8  …  5, 7, 1, 2, 3, 4, 6, 8, 1, 2], [1, 1, 2, 2, 3, 3, 4, 4, 5, 5  …  43, 43, 44, 44, 45, 45, 46, 46, 47, 47], Int8[-1, 1, -1, 1, 1, -1, -1, 1, -1, 1  …  -1, 1, -1, 1, 1, -1, 1, -1, 1, -1], 8, 47), Bool[1 0 0 0; 0 0 0 1; … ; 0 1 0 1; 0 0 1 1])"
      ]
     },
     "metadata": {},
     "output_type": "display_data"
    }
   ],
   "source": [
    "using BenchmarkTools\n",
    "@btime bool3d($assembly)"
   ]
  },
  {
   "cell_type": "markdown",
   "metadata": {},
   "source": [
    "## Performance del codice originale"
   ]
  },
  {
   "cell_type": "code",
   "execution_count": 25,
   "metadata": {},
   "outputs": [
    {
     "name": "stdout",
     "output_type": "stream",
     "text": [
      "0%\r22%\r34%\r45%\r53%\r68%\r84%\r91%\r"
     ]
    },
    {
     "name": "stdout",
     "output_type": "stream",
     "text": [
      "0%\r22%\r34%\r45%\r53%\r68%\r84%\r91%\r"
     ]
    },
    {
     "name": "stdout",
     "output_type": "stream",
     "text": [
      "0%\r22%\r34%\r45%\r53%\r68%\r84%\r91%\r0%\r22%\r34%\r45%\r53%\r68%\r84%\r91%\r"
     ]
    },
    {
     "name": "stdout",
     "output_type": "stream",
     "text": [
      "0%\r22%\r34%\r45%\r53%\r68%\r84%\r91%\r0%\r22%\r34%\r45%\r53%\r68%\r84%\r91%\r"
     ]
    },
    {
     "name": "stdout",
     "output_type": "stream",
     "text": [
      "0%\r22%\r34%\r45%\r53%\r68%\r84%\r91%\r0%\r22%\r34%\r45%\r53%\r68%\r84%\r91%\r"
     ]
    },
    {
     "name": "stdout",
     "output_type": "stream",
     "text": [
      "0%\r22%\r34%\r45%\r53%\r68%\r84%\r91%\r0%\r22%\r34%\r45%\r53%\r68%\r84%\r91%\r"
     ]
    },
    {
     "name": "stdout",
     "output_type": "stream",
     "text": [
      "0%\r22%\r34%\r45%\r53%\r68%\r84%\r91%\r0%\r22%\r34%\r45%\r53%\r68%\r84%\r91%\r"
     ]
    },
    {
     "name": "stdout",
     "output_type": "stream",
     "text": [
      "0%\r22%\r34%\r45%\r53%\r68%\r84%\r91%\r0%\r22%\r34%\r45%\r53%\r68%\r84%\r91%\r"
     ]
    },
    {
     "name": "stdout",
     "output_type": "stream",
     "text": [
      "0%\r22%\r34%\r45%\r53%\r68%\r84%\r91%\r0%\r22%\r34%\r45%\r53%\r68%\r84%\r91%\r"
     ]
    },
    {
     "name": "stdout",
     "output_type": "stream",
     "text": [
      "0%\r22%\r34%\r45%\r53%\r68%\r84%\r91%\r0%\r22%\r34%\r45%\r53%\r68%\r84%\r91%\r"
     ]
    },
    {
     "name": "stdout",
     "output_type": "stream",
     "text": [
      "0%\r22%\r34%\r45%\r53%\r68%\r84%\r91%\r0%\r22%\r34%\r45%\r53%\r68%\r84%\r91%\r"
     ]
    },
    {
     "name": "stdout",
     "output_type": "stream",
     "text": [
      "0%\r22%\r34%\r45%\r53%\r68%\r84%\r91%\r0%\r22%\r34%\r45%\r53%\r68%\r84%\r91%\r"
     ]
    },
    {
     "name": "stdout",
     "output_type": "stream",
     "text": [
      "0%\r22%\r34%\r45%\r53%\r68%\r84%\r91%\r0%\r22%\r34%\r45%\r53%\r68%\r84%\r91%\r"
     ]
    },
    {
     "name": "stdout",
     "output_type": "stream",
     "text": [
      "0%\r22%\r34%\r45%\r53%\r68%\r84%\r91%\r0%\r22%\r34%\r45%\r53%\r68%\r84%\r91%\r"
     ]
    },
    {
     "name": "stdout",
     "output_type": "stream",
     "text": [
      "0%\r22%\r34%\r45%\r53%\r68%\r84%\r91%\r0%\r22%\r34%\r45%\r53%\r68%\r84%\r91%\r"
     ]
    },
    {
     "name": "stdout",
     "output_type": "stream",
     "text": [
      "0%\r22%\r34%\r45%\r53%\r68%\r84%\r91%\r0%\r22%\r34%\r45%\r53%\r68%\r84%\r91%\r"
     ]
    },
    {
     "name": "stdout",
     "output_type": "stream",
     "text": [
      "0%\r22%\r34%\r45%\r53%\r68%\r84%\r91%\r0%\r22%\r34%\r45%\r53%\r68%\r84%\r91%\r"
     ]
    },
    {
     "name": "stdout",
     "output_type": "stream",
     "text": [
      "0%\r22%\r34%\r45%\r53%\r68%\r84%\r91%\r0%\r22%\r34%\r45%\r53%\r68%\r84%\r91%\r"
     ]
    },
    {
     "name": "stdout",
     "output_type": "stream",
     "text": [
      "0%\r22%\r34%\r45%\r53%\r68%\r84%\r91%\r0%\r22%\r34%\r45%\r53%\r68%\r84%\r91%\r"
     ]
    },
    {
     "name": "stdout",
     "output_type": "stream",
     "text": [
      "0%\r22%\r34%\r45%\r53%\r68%\r84%\r91%\r0%\r22%\r34%\r45%\r53%\r68%\r84%\r91%\r"
     ]
    },
    {
     "name": "stdout",
     "output_type": "stream",
     "text": [
      "0%\r22%\r34%\r45%\r53%\r68%\r84%\r91%\r0%\r22%\r34%\r45%\r53%\r68%\r84%\r91%\r"
     ]
    },
    {
     "name": "stdout",
     "output_type": "stream",
     "text": [
      "0%\r22%\r34%\r45%\r53%\r68%\r84%\r91%\r0%\r22%\r34%\r45%\r53%\r68%\r84%\r91%\r"
     ]
    },
    {
     "name": "stdout",
     "output_type": "stream",
     "text": [
      "0%\r22%\r34%\r45%\r53%\r68%\r84%\r91%\r0%\r22%\r34%\r45%\r53%\r68%\r84%\r91%\r"
     ]
    },
    {
     "name": "stdout",
     "output_type": "stream",
     "text": [
      "0%\r22%\r34%\r45%\r53%\r68%\r84%\r91%\r0%\r22%\r34%\r45%\r53%\r68%\r84%\r91%\r"
     ]
    },
    {
     "name": "stdout",
     "output_type": "stream",
     "text": [
      "0%\r22%\r34%\r45%\r53%\r68%\r84%\r91%\r0%\r22%\r34%\r45%\r53%\r68%\r84%\r91%\r"
     ]
    },
    {
     "name": "stdout",
     "output_type": "stream",
     "text": [
      "0%\r22%\r34%\r45%\r53%\r68%\r84%\r91%\r0%\r22%\r34%\r45%\r53%\r68%\r84%\r91%\r"
     ]
    },
    {
     "name": "stdout",
     "output_type": "stream",
     "text": [
      "0%\r22%\r34%\r45%\r53%\r68%\r84%\r91%\r0%\r22%\r34%\r45%\r53%\r68%\r84%\r91%\r"
     ]
    },
    {
     "name": "stdout",
     "output_type": "stream",
     "text": [
      "0%\r22%\r34%\r45%\r53%\r68%\r84%\r91%\r0%\r22%\r34%\r45%\r53%\r68%\r84%\r91%\r"
     ]
    },
    {
     "name": "stdout",
     "output_type": "stream",
     "text": [
      "0%\r22%\r34%\r45%\r53%\r68%\r84%\r91%\r0%\r22%\r34%\r45%\r53%\r68%\r84%\r91%\r"
     ]
    },
    {
     "name": "stdout",
     "output_type": "stream",
     "text": [
      "0%\r22%\r34%\r45%\r53%\r68%\r84%\r91%\r0%\r22%\r34%\r45%\r53%\r68%\r84%\r91%\r"
     ]
    },
    {
     "name": "stdout",
     "output_type": "stream",
     "text": [
      "0%\r22%\r34%\r45%\r53%\r68%\r84%\r91%\r0%\r22%\r34%\r45%\r53%\r68%\r84%\r91%\r"
     ]
    },
    {
     "name": "stdout",
     "output_type": "stream",
     "text": [
      "0%\r22%\r34%\r45%\r53%\r68%\r84%\r91%\r0%\r22%\r34%\r45%\r53%\r68%\r84%\r91%\r"
     ]
    },
    {
     "name": "stdout",
     "output_type": "stream",
     "text": [
      "0%\r22%\r34%\r45%\r53%\r68%\r84%\r91%\r0%\r22%\r34%\r45%\r53%\r68%\r84%\r91%\r"
     ]
    },
    {
     "name": "stdout",
     "output_type": "stream",
     "text": [
      "0%\r22%\r34%\r45%\r53%\r68%\r84%\r91%\r0%\r22%\r34%\r45%\r53%\r68%\r84%\r91%\r"
     ]
    },
    {
     "name": "stdout",
     "output_type": "stream",
     "text": [
      "0%\r22%\r34%\r45%\r53%\r68%\r84%\r91%\r0%\r22%\r34%\r45%\r53%\r68%\r84%\r91%\r"
     ]
    },
    {
     "name": "stdout",
     "output_type": "stream",
     "text": [
      "0%\r22%\r34%\r45%\r53%\r68%\r84%\r91%\r0%\r22%\r34%\r45%\r53%\r68%\r84%\r91%\r"
     ]
    },
    {
     "name": "stdout",
     "output_type": "stream",
     "text": [
      "0%\r22%\r34%\r45%\r53%\r68%\r84%\r91%\r0%\r22%\r34%\r45%\r53%\r68%\r84%\r91%\r"
     ]
    },
    {
     "name": "stdout",
     "output_type": "stream",
     "text": [
      "0%\r22%\r34%\r45%\r53%\r68%\r84%\r91%\r0%\r22%\r34%\r45%\r53%\r68%\r84%\r91%\r"
     ]
    },
    {
     "name": "stdout",
     "output_type": "stream",
     "text": [
      "0%\r22%\r34%\r45%\r53%\r68%\r84%\r91%\r0%\r22%\r34%\r45%\r53%\r68%\r84%\r91%\r"
     ]
    },
    {
     "name": "stdout",
     "output_type": "stream",
     "text": [
      "0%\r22%\r34%\r45%\r53%\r68%\r84%\r91%\r0%\r22%\r34%\r45%\r53%\r68%\r84%\r91%\r"
     ]
    },
    {
     "name": "stdout",
     "output_type": "stream",
     "text": [
      "0%\r22%\r34%\r45%\r53%\r68%\r84%\r91%\r0%\r22%\r34%\r45%\r53%\r68%\r84%\r91%\r"
     ]
    },
    {
     "name": "stdout",
     "output_type": "stream",
     "text": [
      "0%\r22%\r34%\r45%\r53%\r68%\r84%\r91%\r0%\r22%\r34%\r45%\r53%\r68%\r84%\r91%\r"
     ]
    },
    {
     "name": "stdout",
     "output_type": "stream",
     "text": [
      "0%\r22%\r34%\r45%\r53%\r68%\r84%\r91%\r0%\r22%\r34%\r45%\r53%\r68%\r84%\r91%\r"
     ]
    },
    {
     "name": "stdout",
     "output_type": "stream",
     "text": [
      "0%\r22%\r34%\r45%\r53%\r68%\r84%\r91%\r0%\r22%\r34%\r45%\r53%\r68%\r84%\r91%\r"
     ]
    },
    {
     "name": "stdout",
     "output_type": "stream",
     "text": [
      "0%\r22%\r34%\r45%\r53%\r68%\r84%\r91%\r0%\r22%\r34%\r45%\r53%\r68%\r84%\r91%\r"
     ]
    },
    {
     "name": "stdout",
     "output_type": "stream",
     "text": [
      "0%\r22%\r34%\r45%\r53%\r68%\r84%\r91%\r0%\r22%\r34%\r45%\r53%\r68%\r84%\r91%\r"
     ]
    },
    {
     "name": "stdout",
     "output_type": "stream",
     "text": [
      "0%\r22%\r34%\r45%\r53%\r68%\r84%\r91%\r0%\r22%\r34%\r45%\r53%\r68%\r84%\r91%\r"
     ]
    },
    {
     "name": "stdout",
     "output_type": "stream",
     "text": [
      "0%\r22%\r34%\r45%\r53%\r68%\r84%\r91%\r0%\r22%\r34%\r45%\r53%\r68%\r84%\r91%\r"
     ]
    },
    {
     "name": "stdout",
     "output_type": "stream",
     "text": [
      "0%\r22%\r34%\r45%\r53%\r68%\r84%\r91%\r0%\r22%\r34%\r45%\r53%\r68%\r84%\r91%\r"
     ]
    },
    {
     "name": "stdout",
     "output_type": "stream",
     "text": [
      "0%\r22%\r34%\r45%\r53%\r68%\r84%\r91%\r0%\r22%\r34%\r45%\r53%\r68%\r84%\r91%\r"
     ]
    },
    {
     "name": "stdout",
     "output_type": "stream",
     "text": [
      "0%\r22%\r34%\r45%\r53%\r68%\r84%\r91%\r0%\r22%\r34%\r45%\r53%\r68%\r84%\r91%\r"
     ]
    },
    {
     "name": "stdout",
     "output_type": "stream",
     "text": [
      "0%\r22%\r34%\r45%\r53%\r68%\r84%\r91%\r0%\r22%\r34%\r45%\r53%\r68%\r84%\r91%\r"
     ]
    },
    {
     "name": "stdout",
     "output_type": "stream",
     "text": [
      "0%\r22%\r34%\r45%\r53%\r68%\r84%\r91%\r0%\r22%\r34%\r45%\r53%\r68%\r84%\r91%\r"
     ]
    },
    {
     "name": "stdout",
     "output_type": "stream",
     "text": [
      "0%\r22%\r34%\r45%\r53%\r68%\r84%\r91%\r0%\r22%\r34%\r45%\r53%\r68%\r84%\r91%\r"
     ]
    },
    {
     "name": "stdout",
     "output_type": "stream",
     "text": [
      "0%\r22%\r34%\r45%\r53%\r68%\r84%\r91%\r0%\r22%\r34%\r45%\r53%\r68%\r84%\r91%\r"
     ]
    },
    {
     "name": "stdout",
     "output_type": "stream",
     "text": [
      "0%\r22%\r34%\r45%\r53%\r68%\r84%\r91%\r0%\r22%\r34%\r45%\r53%\r68%\r84%\r91%\r"
     ]
    },
    {
     "name": "stdout",
     "output_type": "stream",
     "text": [
      "0%\r22%\r34%\r45%\r53%\r68%\r84%\r91%\r0%\r22%\r34%\r45%\r53%\r68%\r84%\r91%\r"
     ]
    },
    {
     "name": "stdout",
     "output_type": "stream",
     "text": [
      "0%\r22%\r34%\r45%\r53%\r68%\r84%\r91%\r0%\r22%\r34%\r45%\r53%\r68%\r84%\r91%\r"
     ]
    },
    {
     "name": "stdout",
     "output_type": "stream",
     "text": [
      "0%\r22%\r34%\r45%\r53%\r68%\r84%\r91%\r0%\r22%\r34%\r45%\r53%\r68%\r84%\r91%\r"
     ]
    },
    {
     "name": "stdout",
     "output_type": "stream",
     "text": [
      "0%\r22%\r34%\r45%\r53%\r68%\r84%\r91%\r0%\r22%\r34%\r45%\r53%\r68%\r84%\r91%\r"
     ]
    },
    {
     "name": "stdout",
     "output_type": "stream",
     "text": [
      "0%\r22%\r34%\r45%\r53%\r68%\r84%\r91%\r0%\r22%\r34%\r45%\r53%\r68%\r84%\r91%\r"
     ]
    },
    {
     "name": "stdout",
     "output_type": "stream",
     "text": [
      "0%\r22%\r34%\r45%\r53%\r68%\r84%\r91%\r0%\r22%\r34%\r45%\r53%\r68%\r84%\r91%\r"
     ]
    },
    {
     "name": "stdout",
     "output_type": "stream",
     "text": [
      "0%\r22%\r34%\r45%\r53%\r68%\r84%\r91%\r0%\r22%\r34%\r45%\r53%\r68%\r84%\r91%\r"
     ]
    },
    {
     "name": "stdout",
     "output_type": "stream",
     "text": [
      "0%\r22%\r34%\r45%\r53%\r68%\r84%\r91%\r0%\r22%\r34%\r45%\r53%\r68%\r84%\r91%\r"
     ]
    },
    {
     "name": "stdout",
     "output_type": "stream",
     "text": [
      "0%\r22%\r34%\r45%\r53%\r68%\r84%\r91%\r0%\r22%\r34%\r45%\r53%\r68%\r84%\r91%\r"
     ]
    },
    {
     "name": "stdout",
     "output_type": "stream",
     "text": [
      "0%\r22%\r34%\r45%\r53%\r68%\r84%\r91%\r0%\r22%\r34%\r45%\r53%\r68%\r84%\r91%\r"
     ]
    },
    {
     "name": "stdout",
     "output_type": "stream",
     "text": [
      "0%\r22%\r34%\r45%\r53%\r68%\r84%\r91%\r  70.804 ms (455029 allocations: 24.52 MiB)\n"
     ]
    },
    {
     "data": {
      "text/plain": [
       "([0.0 0.0 … 0.3523450000000002 1.103010336951418; 0.0 0.0 … 2.1582775 1.951098135777665; 0.0 1.0 … 0.31964459999999983 0.9470026676010307], (sparse([1, 5, 23, 1, 6, 24, 2, 5, 29, 4  …  83, 78, 81, 86, 79, 80, 87, 79, 81, 88], [1, 1, 1, 2, 2, 2, 3, 3, 3, 4  …  46, 47, 47, 47, 48, 48, 48, 49, 49, 49], Int8[-1, -1, -1, 1, -1, -1, -1, 1, -1, -1  …  1, 1, -1, 1, -1, 1, 1, 1, 1, 1], 88, 49), sparse([1, 7, 1, 9, 2, 10, 1, 13, 1, 15  …  40, 45, 39, 46, 41, 47, 42, 44, 42, 47], [1, 1, 2, 2, 3, 3, 4, 4, 5, 5  …  84, 84, 85, 85, 86, 86, 87, 87, 88, 88], Int8[1, 1, -1, 1, 1, -1, 1, -1, -1, 1  …  -1, 1, 1, -1, 1, -1, -1, 1, 1, 1], 47, 88), sparse([1, 5, 2, 7, 1, 5, 3, 6, 4, 8  …  5, 7, 1, 2, 3, 4, 6, 8, 1, 2], [1, 1, 2, 2, 3, 3, 4, 4, 5, 5  …  43, 43, 44, 44, 45, 45, 46, 46, 47, 47], Int8[-1, 1, -1, 1, 1, -1, -1, 1, -1, 1  …  -1, 1, -1, 1, 1, -1, 1, -1, 1, -1], 8, 47)), Bool[1 0 0 0; 0 0 0 1; … ; 0 1 0 1; 0 0 1 1])"
      ]
     },
     "metadata": {},
     "output_type": "display_data"
    }
   ],
   "source": [
    "@btime bool3dEx($assembly)"
   ]
  },
  {
   "cell_type": "markdown",
   "metadata": {},
   "source": [
    "## Osservazioni sulle perfomance\n",
    "Le prestazioni di `bool3d()` sono strettamente influenzate dalla funzione `space_arrangement()`"
   ]
  },
  {
   "cell_type": "code",
   "execution_count": 26,
   "metadata": {},
   "outputs": [
    {
     "name": "stdout",
     "output_type": "stream",
     "text": [
      "0%\r22%\r34%\r45%\r53%\r68%\r84%\r91%\r"
     ]
    },
    {
     "name": "stdout",
     "output_type": "stream",
     "text": [
      "0%\r22%\r34%\r45%\r53%\r68%\r84%\r91%\r"
     ]
    },
    {
     "name": "stdout",
     "output_type": "stream",
     "text": [
      "0%\r22%\r34%\r45%\r53%\r68%\r84%\r91%\r0%\r22%\r34%\r45%\r53%\r68%\r84%\r91%\r"
     ]
    },
    {
     "name": "stdout",
     "output_type": "stream",
     "text": [
      "0%\r22%\r34%\r45%\r53%\r68%\r84%\r91%\r0%\r22%\r34%\r45%\r53%\r68%\r84%\r91%\r"
     ]
    },
    {
     "name": "stdout",
     "output_type": "stream",
     "text": [
      "0%\r22%\r34%\r45%\r53%\r68%\r84%\r91%\r0%\r22%\r34%\r45%\r53%\r68%\r84%\r91%\r"
     ]
    },
    {
     "name": "stdout",
     "output_type": "stream",
     "text": [
      "0%\r22%\r34%\r45%\r53%\r68%\r84%\r91%\r0%\r22%\r34%\r45%\r53%\r68%\r84%\r91%\r"
     ]
    },
    {
     "name": "stdout",
     "output_type": "stream",
     "text": [
      "0%\r22%\r34%\r45%\r53%\r68%\r84%\r91%\r0%\r22%\r34%\r45%\r53%\r68%\r84%\r91%\r"
     ]
    },
    {
     "name": "stdout",
     "output_type": "stream",
     "text": [
      "0%\r22%\r34%\r45%\r53%\r68%\r84%\r91%\r0%\r22%\r34%\r45%\r53%\r68%\r84%\r91%\r"
     ]
    },
    {
     "name": "stdout",
     "output_type": "stream",
     "text": [
      "0%\r22%\r34%\r45%\r53%\r68%\r84%\r91%\r0%\r22%\r34%\r45%\r53%\r68%\r84%\r91%\r"
     ]
    },
    {
     "name": "stdout",
     "output_type": "stream",
     "text": [
      "0%\r22%\r34%\r45%\r53%\r68%\r84%\r91%\r0%\r22%\r34%\r45%\r53%\r68%\r84%\r91%\r"
     ]
    },
    {
     "name": "stdout",
     "output_type": "stream",
     "text": [
      "0%\r22%\r34%\r45%\r53%\r68%\r84%\r91%\r0%\r22%\r34%\r45%\r53%\r68%\r84%\r91%\r"
     ]
    },
    {
     "name": "stdout",
     "output_type": "stream",
     "text": [
      "0%\r22%\r34%\r45%\r53%\r68%\r84%\r91%\r0%\r22%\r34%\r45%\r53%\r68%\r84%\r91%\r"
     ]
    },
    {
     "name": "stdout",
     "output_type": "stream",
     "text": [
      "0%\r22%\r34%\r45%\r53%\r68%\r84%\r91%\r0%\r22%\r34%\r45%\r53%\r68%\r84%\r91%\r"
     ]
    },
    {
     "name": "stdout",
     "output_type": "stream",
     "text": [
      "0%\r22%\r34%\r45%\r53%\r68%\r84%\r91%\r0%\r22%\r34%\r45%\r53%\r68%\r84%\r91%\r"
     ]
    },
    {
     "name": "stdout",
     "output_type": "stream",
     "text": [
      "0%\r22%\r34%\r45%\r53%\r68%\r84%\r91%\r0%\r22%\r34%\r45%\r53%\r68%\r84%\r91%\r"
     ]
    },
    {
     "name": "stdout",
     "output_type": "stream",
     "text": [
      "0%\r22%\r34%\r45%\r53%\r68%\r84%\r91%\r0%\r22%\r34%\r45%\r53%\r68%\r84%\r91%\r"
     ]
    },
    {
     "name": "stdout",
     "output_type": "stream",
     "text": [
      "0%\r22%\r34%\r45%\r53%\r68%\r84%\r91%\r0%\r22%\r34%\r45%\r53%\r68%\r84%\r91%\r"
     ]
    },
    {
     "name": "stdout",
     "output_type": "stream",
     "text": [
      "0%\r22%\r34%\r45%\r53%\r68%\r84%\r91%\r0%\r22%\r34%\r45%\r53%\r68%\r84%\r91%\r"
     ]
    },
    {
     "name": "stdout",
     "output_type": "stream",
     "text": [
      "0%\r22%\r34%\r45%\r53%\r68%\r84%\r91%\r0%\r22%\r34%\r45%\r53%\r68%\r84%\r91%\r"
     ]
    },
    {
     "name": "stdout",
     "output_type": "stream",
     "text": [
      "0%\r22%\r34%\r45%\r53%\r68%\r84%\r91%\r0%\r22%\r34%\r45%\r53%\r68%\r84%\r91%\r"
     ]
    },
    {
     "name": "stdout",
     "output_type": "stream",
     "text": [
      "0%\r22%\r34%\r45%\r53%\r68%\r84%\r91%\r0%\r22%\r34%\r45%\r53%\r68%\r84%\r91%\r"
     ]
    },
    {
     "name": "stdout",
     "output_type": "stream",
     "text": [
      "0%\r22%\r34%\r45%\r53%\r68%\r84%\r91%\r0%\r22%\r34%\r45%\r53%\r68%\r84%\r91%\r"
     ]
    },
    {
     "name": "stdout",
     "output_type": "stream",
     "text": [
      "0%\r22%\r34%\r45%\r53%\r68%\r84%\r91%\r0%\r22%\r34%\r45%\r53%\r68%\r84%\r91%\r"
     ]
    },
    {
     "name": "stdout",
     "output_type": "stream",
     "text": [
      "0%\r22%\r34%\r45%\r53%\r68%\r84%\r91%\r0%\r22%\r34%\r45%\r53%\r68%\r84%\r91%\r"
     ]
    },
    {
     "name": "stdout",
     "output_type": "stream",
     "text": [
      "0%\r22%\r34%\r45%\r53%\r68%\r84%\r91%\r0%\r22%\r34%\r45%\r53%\r68%\r84%\r91%\r"
     ]
    },
    {
     "name": "stdout",
     "output_type": "stream",
     "text": [
      "0%\r22%\r34%\r45%\r53%\r68%\r84%\r91%\r0%\r22%\r34%\r45%\r53%\r68%\r84%\r91%\r"
     ]
    },
    {
     "name": "stdout",
     "output_type": "stream",
     "text": [
      "0%\r22%\r34%\r45%\r53%\r68%\r84%\r91%\r0%\r22%\r34%\r45%\r53%\r68%\r84%\r91%\r"
     ]
    },
    {
     "name": "stdout",
     "output_type": "stream",
     "text": [
      "0%\r22%\r34%\r45%\r53%\r68%\r84%\r91%\r0%\r22%\r34%\r45%\r53%\r68%\r84%\r91%\r"
     ]
    },
    {
     "name": "stdout",
     "output_type": "stream",
     "text": [
      "0%\r22%\r34%\r45%\r53%\r68%\r84%\r91%\r0%\r22%\r34%\r45%\r53%\r68%\r84%\r91%\r"
     ]
    },
    {
     "name": "stdout",
     "output_type": "stream",
     "text": [
      "0%\r22%\r34%\r45%\r53%\r68%\r84%\r91%\r0%\r22%\r34%\r45%\r53%\r68%\r84%\r91%\r"
     ]
    },
    {
     "name": "stdout",
     "output_type": "stream",
     "text": [
      "0%\r22%\r34%\r45%\r53%\r68%\r84%\r91%\r0%\r22%\r34%\r45%\r53%\r68%\r84%\r91%\r"
     ]
    },
    {
     "name": "stdout",
     "output_type": "stream",
     "text": [
      "0%\r22%\r34%\r45%\r53%\r68%\r84%\r91%\r0%\r22%\r34%\r45%\r53%\r68%\r84%\r91%\r"
     ]
    },
    {
     "name": "stdout",
     "output_type": "stream",
     "text": [
      "0%\r22%\r34%\r45%\r53%\r68%\r84%\r91%\r0%\r22%\r34%\r45%\r53%\r68%\r84%\r91%\r"
     ]
    },
    {
     "name": "stdout",
     "output_type": "stream",
     "text": [
      "0%\r22%\r34%\r45%\r53%\r68%\r84%\r91%\r0%\r22%\r34%\r45%\r53%\r68%\r84%\r91%\r"
     ]
    },
    {
     "name": "stdout",
     "output_type": "stream",
     "text": [
      "0%\r22%\r34%\r45%\r53%\r68%\r84%\r91%\r0%\r22%\r34%\r45%\r53%\r68%\r84%\r91%\r"
     ]
    },
    {
     "name": "stdout",
     "output_type": "stream",
     "text": [
      "0%\r22%\r34%\r45%\r53%\r68%\r84%\r91%\r0%\r22%\r34%\r45%\r53%\r68%\r84%\r91%\r"
     ]
    },
    {
     "name": "stdout",
     "output_type": "stream",
     "text": [
      "0%\r22%\r34%\r45%\r53%\r68%\r84%\r91%\r0%\r22%\r34%\r45%\r53%\r68%\r84%\r91%\r"
     ]
    },
    {
     "name": "stdout",
     "output_type": "stream",
     "text": [
      "0%\r22%\r34%\r45%\r53%\r68%\r84%\r91%\r0%\r22%\r34%\r45%\r53%\r68%\r84%\r91%\r"
     ]
    },
    {
     "name": "stdout",
     "output_type": "stream",
     "text": [
      "0%\r22%\r34%\r45%\r53%\r68%\r84%\r91%\r0%\r22%\r34%\r45%\r53%\r68%\r84%\r91%\r"
     ]
    },
    {
     "name": "stdout",
     "output_type": "stream",
     "text": [
      "0%\r22%\r34%\r45%\r53%\r68%\r84%\r91%\r0%\r22%\r34%\r45%\r53%\r68%\r84%\r91%\r"
     ]
    },
    {
     "name": "stdout",
     "output_type": "stream",
     "text": [
      "0%\r22%\r34%\r45%\r53%\r68%\r84%\r91%\r0%\r22%\r34%\r45%\r53%\r68%\r84%\r91%\r"
     ]
    },
    {
     "name": "stdout",
     "output_type": "stream",
     "text": [
      "0%\r22%\r34%\r45%\r53%\r68%\r84%\r91%\r0%\r22%\r34%\r45%\r53%\r68%\r84%\r91%\r"
     ]
    },
    {
     "name": "stdout",
     "output_type": "stream",
     "text": [
      "0%\r22%\r34%\r45%\r53%\r68%\r84%\r91%\r0%\r22%\r34%\r45%\r53%\r68%\r84%\r91%\r"
     ]
    },
    {
     "name": "stdout",
     "output_type": "stream",
     "text": [
      "0%\r22%\r34%\r45%\r53%\r68%\r84%\r91%\r0%\r22%\r34%\r45%\r53%\r68%\r84%\r91%\r"
     ]
    },
    {
     "name": "stdout",
     "output_type": "stream",
     "text": [
      "0%\r22%\r34%\r45%\r53%\r68%\r84%\r91%\r0%\r22%\r34%\r45%\r53%\r68%\r84%\r91%\r"
     ]
    },
    {
     "name": "stdout",
     "output_type": "stream",
     "text": [
      "0%\r22%\r34%\r45%\r53%\r68%\r84%\r91%\r0%\r22%\r34%\r45%\r53%\r68%\r84%\r91%\r"
     ]
    },
    {
     "name": "stdout",
     "output_type": "stream",
     "text": [
      "0%\r22%\r34%\r45%\r53%\r68%\r84%\r91%\r0%\r22%\r34%\r45%\r53%\r68%\r84%\r91%\r"
     ]
    },
    {
     "name": "stdout",
     "output_type": "stream",
     "text": [
      "0%\r22%\r34%\r45%\r53%\r68%\r84%\r91%\r"
     ]
    },
    {
     "name": "stdout",
     "output_type": "stream",
     "text": [
      "0%\r22%\r34%\r45%\r53%\r68%\r84%\r91%\r0%\r22%\r34%\r45%\r53%\r68%\r84%\r91%\r"
     ]
    },
    {
     "name": "stdout",
     "output_type": "stream",
     "text": [
      "0%\r22%\r34%\r45%\r53%\r68%\r84%\r91%\r0%\r22%\r34%\r45%\r53%\r68%\r84%\r91%\r"
     ]
    },
    {
     "name": "stdout",
     "output_type": "stream",
     "text": [
      "0%\r22%\r34%\r45%\r53%\r68%\r84%\r91%\r0%\r22%\r34%\r45%\r53%\r68%\r84%\r91%\r"
     ]
    },
    {
     "name": "stdout",
     "output_type": "stream",
     "text": [
      "0%\r22%\r34%\r45%\r53%\r68%\r84%\r91%\r0%\r22%\r34%\r45%\r53%\r68%\r84%\r91%\r"
     ]
    },
    {
     "name": "stdout",
     "output_type": "stream",
     "text": [
      "0%\r22%\r34%\r45%\r53%\r68%\r84%\r91%\r0%\r22%\r34%\r45%\r53%\r68%\r84%\r91%\r"
     ]
    },
    {
     "name": "stdout",
     "output_type": "stream",
     "text": [
      "0%\r22%\r34%\r45%\r53%\r68%\r84%\r91%\r0%\r22%\r34%\r45%\r53%\r68%\r84%\r91%\r"
     ]
    },
    {
     "name": "stdout",
     "output_type": "stream",
     "text": [
      "0%\r22%\r34%\r45%\r53%\r68%\r84%\r91%\r0%\r22%\r34%\r45%\r53%\r68%\r84%\r91%\r"
     ]
    },
    {
     "name": "stdout",
     "output_type": "stream",
     "text": [
      "0%\r22%\r34%\r45%\r53%\r68%\r84%\r91%\r0%\r22%\r34%\r45%\r53%\r68%\r84%\r91%\r"
     ]
    },
    {
     "name": "stdout",
     "output_type": "stream",
     "text": [
      "0%\r22%\r34%\r45%\r53%\r68%\r84%\r91%\r0%\r22%\r34%\r45%\r53%\r68%\r84%\r91%\r"
     ]
    },
    {
     "name": "stdout",
     "output_type": "stream",
     "text": [
      "0%\r22%\r34%\r45%\r53%\r68%\r84%\r91%\r0%\r22%\r34%\r45%\r53%\r68%\r84%\r91%\r"
     ]
    },
    {
     "name": "stdout",
     "output_type": "stream",
     "text": [
      "0%\r22%\r34%\r45%\r53%\r68%\r84%\r91%\r0%\r22%\r34%\r45%\r53%\r68%\r84%\r91%\r"
     ]
    },
    {
     "name": "stdout",
     "output_type": "stream",
     "text": [
      "0%\r22%\r34%\r45%\r53%\r68%\r84%\r91%\r0%\r22%\r34%\r45%\r53%\r68%\r84%\r91%\r"
     ]
    },
    {
     "name": "stdout",
     "output_type": "stream",
     "text": [
      "0%\r22%\r34%\r45%\r53%\r68%\r84%\r91%\r0%\r22%\r34%\r45%\r53%\r68%\r84%\r91%\r"
     ]
    },
    {
     "name": "stdout",
     "output_type": "stream",
     "text": [
      "0%\r22%\r34%\r45%\r53%\r68%\r84%\r91%\r0%\r22%\r34%\r45%\r53%\r68%\r84%\r91%\r"
     ]
    },
    {
     "name": "stdout",
     "output_type": "stream",
     "text": [
      "0%\r22%\r34%\r45%\r53%\r68%\r84%\r91%\r0%\r22%\r34%\r45%\r53%\r68%\r84%\r91%\r"
     ]
    },
    {
     "name": "stdout",
     "output_type": "stream",
     "text": [
      "0%\r22%\r34%\r45%\r53%\r68%\r84%\r91%\r0%\r22%\r34%\r45%\r53%\r68%\r84%\r91%\r"
     ]
    },
    {
     "name": "stdout",
     "output_type": "stream",
     "text": [
      "0%\r22%\r34%\r45%\r53%\r68%\r84%\r91%\r0%\r22%\r34%\r45%\r53%\r68%\r84%\r91%\r"
     ]
    },
    {
     "name": "stdout",
     "output_type": "stream",
     "text": [
      "0%\r22%\r34%\r45%\r53%\r68%\r84%\r91%\r0%\r22%\r34%\r45%\r53%\r68%\r84%\r91%\r"
     ]
    },
    {
     "name": "stdout",
     "output_type": "stream",
     "text": [
      "0%\r22%\r34%\r45%\r53%\r68%\r84%\r91%\r0%\r22%\r34%\r45%\r53%\r68%\r84%\r91%\r"
     ]
    },
    {
     "name": "stdout",
     "output_type": "stream",
     "text": [
      "0%\r22%\r34%\r45%\r53%\r68%\r84%\r91%\r0%\r22%\r34%\r45%\r53%\r68%\r84%\r91%\r"
     ]
    },
    {
     "name": "stdout",
     "output_type": "stream",
     "text": [
      "0%\r22%\r34%\r45%\r53%\r68%\r84%\r91%\r0%\r22%\r34%\r45%\r53%\r68%\r84%\r91%\r"
     ]
    },
    {
     "name": "stdout",
     "output_type": "stream",
     "text": [
      "0%\r22%\r34%\r45%\r53%\r68%\r84%\r91%\r0%\r22%\r34%\r45%\r53%\r68%\r84%\r91%\r"
     ]
    },
    {
     "name": "stdout",
     "output_type": "stream",
     "text": [
      "0%\r22%\r34%\r45%\r53%\r68%\r84%\r91%\r0%\r22%\r34%\r45%\r53%\r68%\r84%\r91%\r"
     ]
    },
    {
     "name": "stdout",
     "output_type": "stream",
     "text": [
      "0%\r22%\r34%\r45%\r53%\r68%\r84%\r91%\r0%\r22%\r34%\r45%\r53%\r68%\r84%\r91%\r"
     ]
    },
    {
     "name": "stdout",
     "output_type": "stream",
     "text": [
      "0%\r22%\r34%\r45%\r53%\r68%\r84%\r91%\r0%\r22%\r34%\r45%\r53%\r68%\r84%\r91%\r"
     ]
    },
    {
     "name": "stdout",
     "output_type": "stream",
     "text": [
      "0%\r22%\r34%\r45%\r53%\r68%\r84%\r91%\r0%\r22%\r34%\r45%\r53%\r68%\r84%\r91%\r"
     ]
    },
    {
     "name": "stdout",
     "output_type": "stream",
     "text": [
      "0%\r22%\r34%\r45%\r53%\r68%\r84%\r91%\r0%\r22%\r34%\r45%\r53%\r68%\r84%\r91%\r"
     ]
    },
    {
     "name": "stdout",
     "output_type": "stream",
     "text": [
      "0%\r22%\r34%\r45%\r53%\r68%\r84%\r91%\r0%\r22%\r34%\r45%\r53%\r68%\r84%\r91%\r"
     ]
    },
    {
     "name": "stdout",
     "output_type": "stream",
     "text": [
      "0%\r22%\r34%\r45%\r53%\r68%\r84%\r91%\r0%\r22%\r34%\r45%\r53%\r68%\r84%\r91%\r"
     ]
    },
    {
     "name": "stdout",
     "output_type": "stream",
     "text": [
      "0%\r22%\r34%\r45%\r53%\r68%\r84%\r91%\r0%\r22%\r34%\r45%\r53%\r68%\r84%\r91%\r"
     ]
    },
    {
     "name": "stdout",
     "output_type": "stream",
     "text": [
      "0%\r22%\r34%\r45%\r53%\r68%\r84%\r91%\r0%\r22%\r34%\r45%\r53%\r68%\r84%\r91%\r"
     ]
    },
    {
     "name": "stdout",
     "output_type": "stream",
     "text": [
      "0%\r22%\r34%\r45%\r53%\r68%\r84%\r91%\r0%\r22%\r34%\r45%\r53%\r68%\r84%\r91%\r"
     ]
    },
    {
     "name": "stdout",
     "output_type": "stream",
     "text": [
      "0%\r22%\r34%\r45%\r53%\r68%\r84%\r91%\r0%\r22%\r34%\r45%\r53%\r68%\r84%\r91%\r"
     ]
    },
    {
     "name": "stdout",
     "output_type": "stream",
     "text": [
      "0%\r22%\r34%\r45%\r53%\r68%\r84%\r91%\r0%\r22%\r34%\r45%\r53%\r68%\r84%\r91%\r"
     ]
    },
    {
     "name": "stdout",
     "output_type": "stream",
     "text": [
      "0%\r22%\r34%\r45%\r53%\r68%\r84%\r91%\r0%\r22%\r34%\r45%\r53%\r68%\r84%\r91%\r"
     ]
    },
    {
     "name": "stdout",
     "output_type": "stream",
     "text": [
      "0%\r22%\r34%\r45%\r53%\r68%\r84%\r91%\r0%\r22%\r34%\r45%\r53%\r68%\r84%\r91%\r"
     ]
    },
    {
     "name": "stdout",
     "output_type": "stream",
     "text": [
      "0%\r22%\r34%\r45%\r53%\r68%\r84%\r91%\r0%\r22%\r34%\r45%\r53%\r68%\r84%\r91%\r"
     ]
    },
    {
     "name": "stdout",
     "output_type": "stream",
     "text": [
      "0%\r22%\r34%\r45%\r53%\r68%\r84%\r91%\r0%\r22%\r34%\r45%\r53%\r68%\r84%\r91%\r"
     ]
    },
    {
     "name": "stdout",
     "output_type": "stream",
     "text": [
      "0%\r22%\r34%\r45%\r53%\r68%\r84%\r91%\r0%\r22%\r34%\r45%\r53%\r68%\r84%\r91%\r"
     ]
    },
    {
     "name": "stdout",
     "output_type": "stream",
     "text": [
      "0%\r22%\r34%\r45%\r53%\r68%\r84%\r91%\r0%\r22%\r34%\r45%\r53%\r68%\r84%\r91%\r"
     ]
    },
    {
     "name": "stdout",
     "output_type": "stream",
     "text": [
      "0%\r22%\r34%\r45%\r53%\r68%\r84%\r91%\r0%\r22%\r34%\r45%\r53%\r68%\r84%\r91%\r"
     ]
    },
    {
     "name": "stdout",
     "output_type": "stream",
     "text": [
      "0%\r22%\r34%\r45%\r53%\r68%\r84%\r91%\r  54.936 ms (330254 allocations: 18.54 MiB)\n"
     ]
    },
    {
     "data": {
      "text/plain": [
       "([0.0 0.0 0.0; 0.0 0.0 1.0; … ; 0.3523450000000002 2.1582775 0.31964459999999983; 1.103010336951418 1.951098135777665 0.9470026676010307], sparse([1, 5, 23, 1, 6, 24, 2, 5, 29, 4  …  83, 78, 81, 86, 79, 80, 87, 79, 81, 88], [1, 1, 1, 2, 2, 2, 3, 3, 3, 4  …  46, 47, 47, 47, 48, 48, 48, 49, 49, 49], Int8[-1, -1, -1, 1, -1, -1, -1, 1, -1, -1  …  1, 1, -1, 1, -1, 1, 1, 1, 1, 1], 88, 49), sparse([1, 7, 1, 9, 2, 10, 1, 13, 1, 15  …  40, 45, 39, 46, 41, 47, 42, 44, 42, 47], [1, 1, 2, 2, 3, 3, 4, 4, 5, 5  …  84, 84, 85, 85, 86, 86, 87, 87, 88, 88], Int8[1, 1, -1, 1, 1, -1, 1, -1, -1, 1  …  -1, 1, 1, -1, 1, -1, -1, 1, 1, 1], 47, 88), sparse([1, 5, 2, 7, 1, 5, 3, 6, 4, 8  …  5, 7, 1, 2, 3, 4, 6, 8, 1, 2], [1, 1, 2, 2, 3, 3, 4, 4, 5, 5  …  43, 43, 44, 44, 45, 45, 46, 46, 47, 47], Int8[-1, 1, -1, 1, 1, -1, -1, 1, -1, 1  …  -1, 1, -1, 1, 1, -1, 1, -1, 1, -1], 8, 47))"
      ]
     },
     "metadata": {},
     "output_type": "display_data"
    }
   ],
   "source": [
    "V, FV, EV = Lar.struct2lar(assembly)\n",
    "cop_EV = convert(Lar.ChainOp, Lar.coboundary_0(EV::Lar.Cells))\n",
    "cop_FE = Lar.coboundary_1(V, FV::Lar.Cells, EV::Lar.Cells)\n",
    "W = convert(Lar.Points, V')\n",
    "\n",
    "@btime Lar.space_arrangement($W, $cop_EV, $cop_FE)"
   ]
  }
 ],
 "metadata": {
  "kernelspec": {
   "display_name": "Julia 1.7.3",
   "language": "julia",
   "name": "julia-1.7"
  },
  "language_info": {
   "file_extension": ".jl",
   "mimetype": "application/julia",
   "name": "julia",
   "version": "1.7.3"
  }
 },
 "nbformat": 4,
 "nbformat_minor": 2
}
