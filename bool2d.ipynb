{
 "cells": [
  {
   "cell_type": "markdown",
   "metadata": {},
   "source": [
    "# Progetto Lar Generators (Studio esecutivo)"
   ]
  },
  {
   "cell_type": "markdown",
   "metadata": {},
   "source": [
    "Per avviare una istanza Jupyter con 8 threads, eseguire il seguente codice dal proprio terminale e selezionare il kernel appena creato.\n",
    "\n",
    "```julia\n",
    "using IJulia\n",
    "IJulia.installkernel(\"Julia 8 Threads\", env=Dict(\n",
    "    \"JULIA_NUM_THREADS\" => \"8\",\n",
    "))\n",
    "````"
   ]
  },
  {
   "cell_type": "code",
   "execution_count": 1,
   "metadata": {},
   "outputs": [
    {
     "data": {
      "text/plain": [
       "8"
      ]
     },
     "execution_count": 1,
     "metadata": {},
     "output_type": "execute_result"
    }
   ],
   "source": [
    "Threads.nthreads()"
   ]
  },
  {
   "cell_type": "markdown",
   "metadata": {},
   "source": [
    "## Codice versione originale"
   ]
  },
  {
   "cell_type": "code",
   "execution_count": 7,
   "metadata": {},
   "outputs": [
    {
     "data": {
      "text/plain": [
       "bool2d (generic function with 1 method)"
      ]
     },
     "execution_count": 7,
     "metadata": {},
     "output_type": "execute_result"
    }
   ],
   "source": [
    "using LinearAlgebraicRepresentation, SparseArrays, ViewerGL\n",
    "Lar = LinearAlgebraicRepresentation;\n",
    "GL = ViewerGL\n",
    "using IntervalTrees, LinearAlgebra\n",
    "\n",
    "function pointInPolygonClassification(V, EV)\n",
    "    function pointInPolygonClassification0(pnt)\n",
    "        x, y = pnt\n",
    "        xmin, xmax, ymin, ymax = x, x, y, y\n",
    "        tilecode = Lar.setTile([ymax, ymin, xmax, xmin])\n",
    "        count, status = 0, 0\n",
    "\n",
    "        for (k, edge) in enumerate(EV)\n",
    "            p1, p2 = V[:, edge[1]], V[:, edge[2]]\n",
    "            (x1, y1), (x2, y2) = p1, p2\n",
    "            c1, c2 = tilecode(p1), tilecode(p2)\n",
    "            c_edge, c_un, c_int = c1 ⊻ c2, c1 | c2, c1 & c2\n",
    "\n",
    "            if (c_edge == 0) & (c_un == 0)\n",
    "                return \"p_on\"\n",
    "            elseif (c_edge == 12) & (c_un == c_edge)\n",
    "                return \"p_on\"\n",
    "            elseif c_edge == 3\n",
    "                if c_int == 0\n",
    "                    return \"p_on\"\n",
    "                elseif c_int == 4\n",
    "                    count += 1\n",
    "                end\n",
    "            elseif c_edge == 15\n",
    "                x_int = ((y - y2) * (x1 - x2) / (y1 - y2)) + x2\n",
    "                if x_int > x\n",
    "                    count += 1\n",
    "                elseif x_int == x\n",
    "                    return \"p_on\"\n",
    "                end\n",
    "            elseif (c_edge == 13) & ((c1 == 4) | (c2 == 4))\n",
    "                crossingTest(1, 2, status, count)\n",
    "            elseif (c_edge == 14) & ((c1 == 4) | (c2 == 4))\n",
    "                crossingTest(2, 1, status, count)\n",
    "            elseif c_edge == 7\n",
    "                count += 1\n",
    "            elseif c_edge == 11\n",
    "                count = count\n",
    "            elseif c_edge == 1\n",
    "                if c_int == 0\n",
    "                    return \"p_on\"\n",
    "                elseif c_int == 4\n",
    "                    crossingTest(1, 2, status, count)\n",
    "                end\n",
    "            elseif c_edge == 2\n",
    "                if c_int == 0\n",
    "                    return \"p_on\"\n",
    "                elseif c_int == 4\n",
    "                    crossingTest(2, 1, status, count)\n",
    "                end\n",
    "            elseif (c_edge == 4) & (c_un == c_edge)\n",
    "                return \"p_on\"\n",
    "            elseif (c_edge == 8) & (c_un == c_edge)\n",
    "                return \"p_on\"\n",
    "            elseif c_edge == 5\n",
    "                if (c1 == 0) | (c2 == 0)\n",
    "                    return \"p_on\"\n",
    "                else\n",
    "                    crossingTest(1, 2, status, count)\n",
    "                end\n",
    "            elseif c_edge == 6\n",
    "                if (c1 == 0) | (c2 == 0)\n",
    "                    return \"p_on\"\n",
    "                else\n",
    "                    crossingTest(2, 1, status, count)\n",
    "                end\n",
    "            elseif (c_edge == 9) & ((c1 == 0) | (c2 == 0))\n",
    "                return \"p_on\"\n",
    "            elseif (c_edge == 10) & ((c1 == 0) | (c2 == 0))\n",
    "                return \"p_on\"\n",
    "            end\n",
    "        end\n",
    "        if (round(count) % 2) == 1\n",
    "            return \"p_in\"\n",
    "        else\n",
    "            return \"p_out\"\n",
    "        end\n",
    "    end\n",
    "    return pointInPolygonClassification0\n",
    "end\n",
    "\n",
    "function settestpoints2d(W, f, copEV, copFE)\n",
    "    e = findnz(copFE[f, :])[1][1]\n",
    "    v1, v2 = findnz(copEV[e, :])[1]\n",
    "    t = W[v2, :] - W[v1, :]\n",
    "    n = [-t[2], t[1]]\n",
    "    p0 = (W[v1, :] + W[v2, :]) ./ 2\n",
    "    ϵ = 1.0e-4\n",
    "    ptest1 = p0 + ϵ * n\n",
    "    ptest2 = p0 - ϵ * n\n",
    "    return ptest1, ptest2\n",
    "end\n",
    "\n",
    "\n",
    "function getinternalpoint2d(W, f, copEV, copFE)\n",
    "    ptest1, ptest2 = settestpoints2d(W, f, copEV, copFE)\n",
    "    edges = [findnz(copEV[e, :])[1] for e in findnz(copFE[f, :])[1]]\n",
    "    V = convert(Lar.Points, W')\n",
    "    classify = pointInPolygonClassification(V, edges)\n",
    "    if classify(ptest1) == \"p_in\"\n",
    "        return ptest1\n",
    "    elseif classify(ptest2) == \"p_in\"\n",
    "        return ptest2\n",
    "    else\n",
    "        error(\"classifying inner point in face $f\")\n",
    "    end\n",
    "end\n",
    "\n",
    "function chainbasis2polygons(copEV, copFE)\n",
    "    FE = [findnz(copFE[k, :])[1] for k = 1:copFE.m]\n",
    "    EV = [findnz(copEV[k, :])[1] for k = 1:copEV.m]\n",
    "\n",
    "    FEs = []\n",
    "    EVs = []\n",
    "    FVs = []\n",
    "\n",
    "    for f = 1:copFE.m\n",
    "        push!(FEs, collect(Set(cat([e for e in FE[f]]; dims=1))))\n",
    "        push!(EVs, [EV[e] for e in FE[f]])\n",
    "        push!(FVs, collect(Set(cat([EV[e] for e in FE[f]]; dims=1))))\n",
    "    end\n",
    "    polygons = collect(zip(EVs, FVs, FEs))\n",
    "    return polygons, FE\n",
    "end\n",
    "\n",
    "\n",
    "function internalpoints2d(W, copEV, copFE)\n",
    "    pols, FE = chainbasis2polygons(copEV, copFE)\n",
    "    internalpoints = []\n",
    "    for f = 1:length(pols)\n",
    "        (EV, FV, FE) = pols[f]\n",
    "        internalpoint = getinternalpoint2d(W, f, copEV, copFE)\n",
    "        push!(internalpoints, internalpoint)\n",
    "    end\n",
    "    return internalpoints\n",
    "end\n",
    "\n",
    "\n",
    "function testinternalpoint2d(listOfModels)\n",
    "    function testinternalpoint0(testpoint)\n",
    "        intersectedfaces = []\n",
    "        for (k, model) in enumerate(listOfModels)\n",
    "            verts, edges = model\n",
    "            classify = pointInPolygonClassification(verts, edges)\n",
    "            inOut = classify(testpoint)\n",
    "            if inOut == \"p_in\"\n",
    "                push!(intersectedfaces, k)\n",
    "            end\n",
    "        end\n",
    "        return intersectedfaces\n",
    "    end\n",
    "    return testinternalpoint0\n",
    "end\n",
    "\n",
    "function bool2d(assembly)\n",
    "    V, EV = Lar.struct2lar(assembly)\n",
    "    cop_EW = convert(Lar.ChainOp, Lar.coboundary_0(EV::Lar.Cells))\n",
    "    W = convert(Lar.Points, V')\n",
    "    W, copEV, copFE = Lar.Arrangement.planar_arrangement(W::Lar.Points, cop_EW::Lar.ChainOp)\n",
    "    innerpoints = internalpoints2d(W, copEV, copFE[1:end, :])\n",
    "    listOfModels = Lar.evalStruct(assembly)\n",
    "    boolmatrix = BitArray(undef, length(innerpoints), length(listOfModels))\n",
    "    containmenttest = testinternalpoint2d(listOfModels)\n",
    "    for (k, point) in enumerate(innerpoints)\n",
    "        cells = containmenttest(point)\n",
    "        for l in cells\n",
    "            boolmatrix[k, l] = 1\n",
    "        end\n",
    "    end\n",
    "    return W, copEV, copFE, boolmatrix\n",
    "end"
   ]
  },
  {
   "cell_type": "markdown",
   "metadata": {},
   "source": [
    "## Esempio versione originale"
   ]
  },
  {
   "cell_type": "code",
   "execution_count": 8,
   "metadata": {},
   "outputs": [],
   "source": [
    "using ViewerGL, SparseArrays\n",
    "import LinearAlgebraicRepresentation as Lar\n",
    "GL = ViewerGL\n",
    "\n",
    "T=3\n",
    "n,m = 1,1\n",
    "V,(VV,EV,FV) = Lar.cuboidGrid([n,m],true)\n",
    "square = V,EV\n",
    "q = sqrt(2)\n",
    "assembly = Lar.Struct([\n",
    "    Lar.Struct([ Lar.t( rand(0:0.1:0.5), rand(0:0.1:0.5) ), Lar.r(rand(0:0.1:1)), square ]) for i in 1:T\n",
    "])\n",
    "\n",
    "V,EV = Lar.struct2lar(assembly)\n",
    "GL.VIEW([ GL.GLGrid(V,EV, GL.COLORS[1],1), GL.GLFrame2 ]);\n",
    "\n",
    "W, copEV, copFE, boolmatrix = bool2d(assembly)\n",
    "\n",
    "A = boolmatrix[:,1]\n",
    "B = boolmatrix[:,2]\n",
    "C = boolmatrix[:,3]\n",
    "\n",
    "AorB = A .| B .| C\n",
    "AandB = A .& B .& C\n",
    "AxorB = A .⊻ B .⊻ C\n",
    "\n",
    "union = Matrix(copFE)' * Int.(AorB)\n",
    "intersection = Matrix(copFE)' * Int.(AandB)\n",
    "xor = Matrix(copFE)' * AxorB\n",
    "\n",
    "V = convert(Lar.Points,W')\n",
    "EV = Lar.cop2lar(copEV)\n",
    "EVor = [ev for (k,ev) in enumerate(EV) if abs(union[k])==1 ]\n",
    "EVand = [ev for (k,ev) in enumerate(EV) if abs(intersection[k])==1 ]\n",
    "EVxor = [ev for (k,ev) in enumerate(EV) if abs(xor[k])==1 ]\n",
    "GL.VIEW([ GL.GLGrid(V,EVor, GL.COLORS[1],1), GL.GLFrame2 ]);\n",
    "GL.VIEW([ GL.GLGrid(V,EVand, GL.COLORS[1],1), GL.GLFrame2 ]);\n",
    "GL.VIEW([ GL.GLGrid(V,EVxor, GL.COLORS[1],1), GL.GLFrame2 ]);\n",
    "\n",
    "model = (V,[VV, EVxor])\n",
    "GL.VIEW( GL.numbering(.5)( model,GL.COLORS[1],0.1 ) );\n"
   ]
  },
  {
   "cell_type": "markdown",
   "metadata": {},
   "source": [
    "## Perfomance versione originale"
   ]
  },
  {
   "cell_type": "code",
   "execution_count": 15,
   "metadata": {},
   "outputs": [
    {
     "data": {
      "text/plain": [
       "0.00798625"
      ]
     },
     "execution_count": 15,
     "metadata": {},
     "output_type": "execute_result"
    }
   ],
   "source": [
    "@elapsed bool2d(assembly)"
   ]
  },
  {
   "cell_type": "markdown",
   "metadata": {},
   "source": [
    "## Esempio del codice sviluppato ed ottimizzato"
   ]
  },
  {
   "cell_type": "code",
   "execution_count": 1,
   "metadata": {},
   "outputs": [
    {
     "name": "stderr",
     "output_type": "stream",
     "text": [
      "\u001b[32m\u001b[1m    Updating\u001b[22m\u001b[39m git-repo `https://github.com/paolomazzitti/CPD22-9`\n",
      "\u001b[32m\u001b[1m    Updating\u001b[22m\u001b[39m registry at `~/.julia/registries/General.toml`\n",
      "\u001b[32m\u001b[1m   Resolving\u001b[22m\u001b[39m package versions...\n",
      "\u001b[32m\u001b[1m  No Changes\u001b[22m\u001b[39m to `~/.julia/environments/v1.7/Project.toml`\n",
      "\u001b[32m\u001b[1m  No Changes\u001b[22m\u001b[39m to `~/.julia/environments/v1.7/Manifest.toml`\n"
     ]
    }
   ],
   "source": [
    "using Pkg\n",
    "Pkg.add(url=\"https://github.com/paolomazzitti/CPD22-9\")"
   ]
  },
  {
   "cell_type": "code",
   "execution_count": 18,
   "metadata": {},
   "outputs": [],
   "source": [
    "using CPD9, ViewerGL, SparseArrays\n",
    "GL = ViewerGL\n",
    "\n",
    "T=3\n",
    "n,m = 1,1\n",
    "V,(VV,EV,FV) = CPD9.cuboidGrid([n,m],true)\n",
    "square = V,EV\n",
    "q = sqrt(2)\n",
    "\n",
    "assemblyCPD9 = CPD9.Struct([\n",
    "    CPD9.Struct([ CPD9.t( rand(0:0.1:0.5), rand(0:0.1:0.5) ), CPD9.r(rand(0:0.1:1)), square ]) for i in 1:T\n",
    "])\n",
    "\n",
    "V,EV = CPD9.struct2lar(assemblyCPD9)\n",
    "GL.VIEW([ GL.GLGrid(V,EV, GL.COLORS[1],1), GL.GLFrame2 ]);\n",
    "\n",
    "W, copEV, copFE, boolmatrix = CPD9.bool2d(assembly)\n",
    "\n",
    "A = boolmatrix[:,1]\n",
    "B = boolmatrix[:,2]\n",
    "C = boolmatrix[:,3]\n",
    "\n",
    "AorB = A .| B .| C\n",
    "AandB = A .& B .& C\n",
    "AxorB = A .⊻ B .⊻ C\n",
    "\n",
    "union = Matrix(copFE)' * Int.(AorB)\n",
    "intersection = Matrix(copFE)' * Int.(AandB)\n",
    "xor = Matrix(copFE)' * AxorB\n",
    "\n",
    "V = convert(CPD9.Points,W')\n",
    "EV = CPD9.cop2lar(copEV)\n",
    "EVor = [ev for (k,ev) in enumerate(EV) if abs(union[k])==1 ]\n",
    "EVand = [ev for (k,ev) in enumerate(EV) if abs(intersection[k])==1 ]\n",
    "EVxor = [ev for (k,ev) in enumerate(EV) if abs(xor[k])==1 ]\n",
    "GL.VIEW([ GL.GLGrid(V,EVor, GL.COLORS[1],1), GL.GLFrame2 ]);\n",
    "GL.VIEW([ GL.GLGrid(V,EVand, GL.COLORS[1],1), GL.GLFrame2 ]);\n",
    "GL.VIEW([ GL.GLGrid(V,EVxor, GL.COLORS[1],1), GL.GLFrame2 ]);\n",
    "\n",
    "model = (V,[VV, EVxor])\n",
    "GL.VIEW( GL.numbering(.5)( model,GL.COLORS[1],0.1 ) );\n"
   ]
  },
  {
   "cell_type": "markdown",
   "metadata": {},
   "source": [
    "## Performance codice sviluppato e ottimizzato"
   ]
  },
  {
   "cell_type": "code",
   "execution_count": 19,
   "metadata": {},
   "outputs": [
    {
     "data": {
      "text/plain": [
       "0.006448084"
      ]
     },
     "execution_count": 19,
     "metadata": {},
     "output_type": "execute_result"
    }
   ],
   "source": [
    "@elapsed CPD9.bool2d(assemblyCPD9)"
   ]
  }
 ],
 "metadata": {
  "kernelspec": {
   "display_name": "Julia 8 Threads 1.7.2",
   "language": "julia",
   "name": "julia-8-threads-1.7"
  },
  "language_info": {
   "file_extension": ".jl",
   "mimetype": "application/julia",
   "name": "julia",
   "version": "1.7.2"
  }
 },
 "nbformat": 4,
 "nbformat_minor": 2
}
