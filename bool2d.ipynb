{
 "cells": [
  {
   "cell_type": "markdown",
   "metadata": {},
   "source": [
    "# Progetto Lar Generators\n",
    "\n",
    "| Nome| Matricola | E-mail | Profilo Github |\n",
    "|:---|:---|:---|:---|\n",
    "|Paolo Mazzitti|502042|pao.mazzitti@stud.uniroma3.it| [https://github.com/paolomazzitti](https://github.com/paolomazzitti) |\n",
    "| Matteo Colonnello|527289|mat.colonnello@stud.uniroma3.it|[https://github.com/MatteoColonnello](https://github.com/MatteoColonnello)|\n",
    "| Martina Falanga|522705|mar.falanga@stud.uniroma3.it|[https://github.com/MartinaFalanga](https://github.com/MartinaFalanga) |"
   ]
  },
  {
   "cell_type": "markdown",
   "metadata": {},
   "source": [
    "Per avviare una istanza Jupyter con 8 threads, eseguire il seguente codice dal proprio terminale e selezionare il kernel appena creato.\n",
    "\n",
    "```julia\n",
    "using IJulia\n",
    "IJulia.installkernel(\"Julia 8 Threads\", env=Dict(\n",
    "    \"JULIA_NUM_THREADS\" => \"8\",\n",
    "))\n",
    "````"
   ]
  },
  {
   "cell_type": "code",
   "execution_count": 1,
   "metadata": {},
   "outputs": [
    {
     "data": {
      "text/plain": [
       "8"
      ]
     },
     "metadata": {},
     "output_type": "display_data"
    }
   ],
   "source": [
    "using Base.Threads\n",
    "Threads.nthreads()"
   ]
  },
  {
   "cell_type": "markdown",
   "metadata": {},
   "source": [
    "## Codice funzionante versione originale\n",
    "Per mostrare le differenze prestazionali tra la versione originale del progetto e quella ottimizzata dal gruppo è necessario eseguire la cella sottostante. Il codice, infatti, presentava inizialmente degli errori che non ne permettavano l'esecuzione."
   ]
  },
  {
   "cell_type": "code",
   "execution_count": 2,
   "metadata": {},
   "outputs": [
    {
     "data": {
      "text/plain": [
       "bool2dEx (generic function with 1 method)"
      ]
     },
     "metadata": {},
     "output_type": "display_data"
    }
   ],
   "source": [
    "function setTile(box)\n",
    "    tiles = [[9,1,5],[8,0,4],[10,2,6]]\n",
    "    b1,b2,b3,b4 = box\n",
    "    function tileCode(point)\n",
    "        x, y = point\n",
    "        code = 0\n",
    "        if y>b1 code=code|1 end\n",
    "        if y<b2 code=code|2 end\n",
    "        if x>b3 code=code|4 end\n",
    "        if x<b4 code=code|8 end\n",
    "        return code\n",
    "    end\n",
    "    return tileCode\n",
    "end\n",
    "\n",
    "function pointInPolygonClassification(V,EV)\n",
    "    function pointInPolygonClassification0(pnt)\n",
    "        x,y = pnt\n",
    "        xmin,xmax,ymin,ymax = x,x,y,y\n",
    "        tilecode = setTile([ymax,ymin,xmax,xmin])\n",
    "        count,status = 0,0\n",
    "\n",
    "        for (k,edge) in enumerate(EV)\n",
    "            p1,p2 = V[:,edge[1]],V[:,edge[2]]\n",
    "            (x1,y1),(x2,y2) = p1,p2\n",
    "            c1,c2 = tilecode(p1),tilecode(p2)\n",
    "            c_edge, c_un, c_int = c1⊻c2, c1|c2, c1&c2\n",
    "\n",
    "            if (c_edge == 0) & (c_un == 0) return \"p_on\"\n",
    "            elseif (c_edge == 12) & (c_un == c_edge) return \"p_on\"\n",
    "            elseif c_edge == 3\n",
    "                if c_int == 0 return \"p_on\"\n",
    "                elseif c_int == 4 count += 1 end\n",
    "            elseif c_edge == 15\n",
    "                x_int = ((y-y2)*(x1-x2)/(y1-y2))+x2\n",
    "                if x_int > x count += 1\n",
    "                elseif x_int == x return \"p_on\" end\n",
    "            elseif (c_edge == 13) & ((c1==4) | (c2==4))\n",
    "                    crossingTest(1,2,status,count)\n",
    "            elseif (c_edge == 14) & ((c1==4) | (c2==4))\n",
    "                    crossingTest(2,1,status,count)\n",
    "            elseif c_edge == 7 count += 1\n",
    "            elseif c_edge == 11 count = count\n",
    "            elseif c_edge == 1\n",
    "                if c_int == 0 return \"p_on\"\n",
    "                elseif c_int == 4 crossingTest(1,2,status,count) end\n",
    "            elseif c_edge == 2\n",
    "                if c_int == 0 return \"p_on\"\n",
    "                elseif c_int == 4 crossingTest(2,1,status,count) end\n",
    "            elseif (c_edge == 4) & (c_un == c_edge) return \"p_on\"\n",
    "            elseif (c_edge == 8) & (c_un == c_edge) return \"p_on\"\n",
    "            elseif c_edge == 5\n",
    "                if (c1==0) | (c2==0) return \"p_on\"\n",
    "                else crossingTest(1,2,status,count) end\n",
    "            elseif c_edge == 6\n",
    "                if (c1==0) | (c2==0) return \"p_on\"\n",
    "                else crossingTest(2,1,status,count) end\n",
    "            elseif (c_edge == 9) & ((c1==0) | (c2==0)) return \"p_on\"\n",
    "            elseif (c_edge == 10) & ((c1==0) | (c2==0)) return \"p_on\"\n",
    "            end\n",
    "        end\n",
    "        if (round(count)%2)==1\n",
    "            return \"p_in\"\n",
    "        else\n",
    "            return \"p_out\"\n",
    "        end\n",
    "    end\n",
    "    return pointInPolygonClassification0\n",
    "end\n",
    "\n",
    "function chainbasis2polygonsEx(V, copEV, copFE)\n",
    "    FE = [findnz(copFE[k, :])[1] for k = 1:copFE.m]\n",
    "    EV = [findnz(copEV[k, :])[1] for k = 1:copEV.m]\n",
    "\n",
    "    FEs = []\n",
    "    EVs = []\n",
    "    FVs = []\n",
    "    \n",
    "    for f = 1:copFE.m\n",
    "        push!(FEs, collect(Set(cat([e for e in FE[f]]; dims=1))))\n",
    "        push!(EVs, [EV[e] for e in FE[f]])\n",
    "        push!(FVs, collect(Set(cat([EV[e] for e in FE[f]]; dims=1))))\n",
    "    end\n",
    "    polygons = collect(zip(EVs, FVs, FEs))\n",
    "    W = convert(Lar.Points, V')\n",
    "    return W, polygons, FE\n",
    "end\n",
    "\n",
    "\n",
    "function internalpoints2dEx(W, copEV, copFE)\n",
    "    U, pols, FE = chainbasis2polygonsEx(W, copEV, copFE)\n",
    "    internalpoints = []\n",
    "    for f = 1:length(pols)\n",
    "        (EV, FV, FE) = pols[f]\n",
    "        internalpoint = Lar.getinternalpoint2d(W, EV, FV, f, copEV, copFE)\n",
    "        push!(internalpoints, internalpoint)\n",
    "    end\n",
    "    return internalpoints\n",
    "end\n",
    "\n",
    "\n",
    "function bool2dEx(assembly)\n",
    "    \n",
    "    V, EV = Lar.struct2lar(assembly)\n",
    "    cop_EW = convert(Lar.ChainOp, Lar.coboundary_0(EV::Lar.Cells))\n",
    "    W = convert(Lar.Points, V')\n",
    "   \n",
    "    W, copEV, copFE = Lar.Arrangement.planar_arrangement(W::Lar.Points, cop_EW::Lar.ChainOp)\n",
    "    \n",
    "    innerpoints = internalpoints2dEx(W, copEV, copFE[1:end, :])\n",
    "    \n",
    "    listOfModels = Lar.evalStruct(assembly)\n",
    "    inputfacenumbers = [length(listOfModels[k][2]) for k = 1:length(listOfModels)]\n",
    "    \n",
    "    boolmatrix = BitArray(undef, length(innerpoints), length(listOfModels))\n",
    "    containmenttest = Lar.testinternalpoint2d(listOfModels)\n",
    "    for (k, point) in enumerate(innerpoints)\n",
    "        cells = containmenttest(point)\n",
    "        for l in cells\n",
    "            boolmatrix[k, l] = 1\n",
    "        end\n",
    "    end\n",
    "    return W, copEV, copFE, boolmatrix\n",
    "end"
   ]
  },
  {
   "cell_type": "markdown",
   "metadata": {},
   "source": [
    "## Codice sviluppato e ottimizzato"
   ]
  },
  {
   "cell_type": "code",
   "execution_count": 3,
   "metadata": {},
   "outputs": [
    {
     "data": {
      "text/plain": [
       "setTileBool"
      ]
     },
     "metadata": {},
     "output_type": "display_data"
    }
   ],
   "source": [
    "\"\"\"\n",
    "    setTileBool(box)(point)\n",
    "\n",
    "# Explanation\n",
    "\n",
    "Returns the tile code of an edge.\n",
    "\n",
    "# Arguments\n",
    "\n",
    "- `box::Tuple{Float64, Float64, Float64, Float64}`\n",
    "- `point::Vector{Float64}`\n",
    "\n",
    "# Return\n",
    "\n",
    "- `tileCodeBool::Int64`\n",
    "\"\"\"\n",
    "@inline function setTileBool(box)\n",
    "    b1, b2, b3, b4 = box\n",
    "    function tileCodeBool(point)\n",
    "        x, y = point\n",
    "        code = 0\n",
    "        if y > b1\n",
    "            code = code | 1\n",
    "        end\n",
    "        if y < b2\n",
    "            code = code | 2\n",
    "        end\n",
    "        if x > b3\n",
    "            code = code | 4\n",
    "        end\n",
    "        if x < b4\n",
    "            code = code | 8\n",
    "        end\n",
    "        return code\n",
    "    end\n",
    "    return tileCodeBool\n",
    "end"
   ]
  },
  {
   "cell_type": "code",
   "execution_count": 4,
   "metadata": {},
   "outputs": [
    {
     "data": {
      "text/plain": [
       "pointInPolygonClassificationBool"
      ]
     },
     "metadata": {},
     "output_type": "display_data"
    }
   ],
   "source": [
    "\"\"\"\n",
    "    pointInPolygonClassificationBool(V, EV)(pnt)\n",
    "\n",
    "# Explanation\n",
    "\n",
    "Determines whether a point is inside or outside a polygon. It is a specific version used for the bool2d function.\n",
    "\n",
    "# Arguments\n",
    "- `V::Adjoint{Float64, Matrix{Float64}}`\n",
    "- `EV::Vector{Vector{Int64}}`\n",
    "- `pnt::Vector{Float64}`\n",
    "\n",
    "# Return\n",
    "- `p_in::String` or `p_out::String`\n",
    "\"\"\"\n",
    "function pointInPolygonClassificationBool(V, EV)\n",
    "    function pointInPolygonClassification0Bool(pnt)\n",
    "        x, y = pnt\n",
    "        xmin, xmax, ymin, ymax = x, x, y, y\n",
    "        tilecodeBool = setTileBool([ymax, ymin, xmax, xmin])\n",
    "        count = 0\n",
    "        for edge in EV\n",
    "            p1, p2 = V[:, edge[1]], V[:, edge[2]]\n",
    "            c1, c2 = tilecodeBool(p1), tilecodeBool(p2)\n",
    "            (x1, y1), (x2, y2) = p1, p2\n",
    "            c_edge, c_int = c1 ⊻ c2, c1 & c2\n",
    "\n",
    "            if c_edge == 3 && c_int == 4\n",
    "                count += 1\n",
    "            elseif c_edge == 15\n",
    "                x_int = ((y - y2) * (x1 - x2) / (y1 - y2)) + x2\n",
    "                if x_int > x\n",
    "                    count += 1\n",
    "                end\n",
    "            end\n",
    "        end\n",
    "        if (round(count) % 2) == 1\n",
    "            return \"p_in\"\n",
    "        else\n",
    "            return \"p_out\"\n",
    "        end\n",
    "    end\n",
    "    return pointInPolygonClassification0Bool\n",
    "end"
   ]
  },
  {
   "cell_type": "code",
   "execution_count": 5,
   "metadata": {},
   "outputs": [
    {
     "data": {
      "text/plain": [
       "settestpoints2d"
      ]
     },
     "metadata": {},
     "output_type": "display_data"
    }
   ],
   "source": [
    "\"\"\"\n",
    "    settestpoints2d(W, f, copEV, copFE)\n",
    "\n",
    "# Explanation\n",
    "\n",
    "Given a polygon, it returns two points, one inside and one outside it.\n",
    "\n",
    "# Arguments\n",
    "- `W::Matrix{Float64}`\n",
    "- `f::Int64`\n",
    "- `copEV::SparseMatrixCSC{Int8, Int64}`\n",
    "- `copFE::SparseMatrixCSC{Int8, Int64}`\n",
    "\n",
    "# Return\n",
    "- `(ptest1, ptest2)::Tuple{Vector{Float64}, Vector{Float64}}`\n",
    "\"\"\"\n",
    "@inline function settestpoints2d(W, f, copEV, copFE)\n",
    "    e = findnz(copFE[f, :])[1][1]\n",
    "    v1, v2 = findnz(copEV[e, :])[1]\n",
    "    t = W[v2, :] - W[v1, :]\n",
    "    n = [-t[2], t[1]]\n",
    "    p0 = (W[v1, :] + W[v2, :]) ./ 2\n",
    "    ϵ = 1.0e-4\n",
    "    ptest1 = p0 + ϵ * n\n",
    "    ptest2 = p0 - ϵ * n\n",
    "    return ptest1, ptest2\n",
    "end"
   ]
  },
  {
   "cell_type": "code",
   "execution_count": 6,
   "metadata": {},
   "outputs": [
    {
     "data": {
      "text/plain": [
       "getinternalpoint2d"
      ]
     },
     "metadata": {},
     "output_type": "display_data"
    }
   ],
   "source": [
    "\"\"\"\n",
    "    getinternalpoint2d(W, f, copEV, copFE)\n",
    "\n",
    "# Explanation\n",
    "\n",
    "Returns an interior point in the polygon. \n",
    "\n",
    "# Arguments\n",
    "\n",
    "- `W::Matrix{Float64}`\n",
    "- `f::Int64`\n",
    "- `copEV::SparseMatrixCSC{Int8, Int64}`\n",
    "- `copFE::SparseMatrixCSC{Int8, Int64}`\n",
    "\n",
    "# Return\n",
    "\n",
    "- `ptest1::Vector{Float64}` or `ptest2::Vector{Float64}`\n",
    "\"\"\"\n",
    "function getinternalpoint2d(W, f, copEV, copFE)\n",
    "    ptest1, ptest2 = settestpoints2d(W, f, copEV, copFE)\n",
    "    edges = [findnz(copEV[e, :])[1] for e in findnz(copFE[f, :])[1]]\n",
    "    V = W'\n",
    "    classify = pointInPolygonClassificationBool(V, edges)\n",
    "    if classify(ptest1) == \"p_in\"\n",
    "        return ptest1\n",
    "    else\n",
    "        return ptest2\n",
    "    end\n",
    "end"
   ]
  },
  {
   "cell_type": "code",
   "execution_count": 7,
   "metadata": {},
   "outputs": [
    {
     "data": {
      "text/plain": [
       "internalpoints2d"
      ]
     },
     "metadata": {},
     "output_type": "display_data"
    }
   ],
   "source": [
    "\"\"\"\n",
    "    internalpoints2d(W, copEV, copFE)\n",
    "\n",
    "# Explanation\n",
    "\n",
    "Returns, for each atom of the decomposition, an internal point.\n",
    "\n",
    "# Arguments\n",
    "- `W::Matrix{Float64}`\n",
    "- `copEV::SparseMatrixCSC{Int8, Int64}`\n",
    "- `copFE::SparseMatrixCSC{Int8, Int64}`\n",
    "\n",
    "# Return\n",
    "- `internalpoints::Vector{Vector{Float64}}`\n",
    "\"\"\"\n",
    "function internalpoints2d(W, copEV, copFE)\n",
    "    internalpoints = Vector{Vector{Float64}}(undef, copFE.m)\n",
    "    @threads for f = 1:copFE.m\n",
    "        internalpoint = getinternalpoint2d(W, f, copEV, copFE)\n",
    "        @inbounds internalpoints[f] = internalpoint\n",
    "    end\n",
    "    return internalpoints\n",
    "end"
   ]
  },
  {
   "cell_type": "code",
   "execution_count": 8,
   "metadata": {},
   "outputs": [
    {
     "data": {
      "text/plain": [
       "testinternalpoint2d"
      ]
     },
     "metadata": {},
     "output_type": "display_data"
    }
   ],
   "source": [
    "\"\"\"\n",
    "\ttestinternalpoint2d(listOfModels)(testpoint)\n",
    "\n",
    "# Explanation\n",
    "\n",
    "Given a point, it returns the list of models containing it.\n",
    "    \n",
    "# Arguments\n",
    "- `listOfModels::Vector{Any}`\n",
    "- `testpoint::Vector{Float64}`\n",
    "\n",
    "# Return\n",
    "- `intersectedFaces: Vector{Int64}`\n",
    "\"\"\"\n",
    "function testinternalpoint2d(listOfModels)\n",
    "    function testinternalpoint0(testpoint)\n",
    "\n",
    "        intersectedFaces = Vector{Int64}()\n",
    "\n",
    "        for (k, model) in enumerate(listOfModels)\n",
    "            verts, edges = model\n",
    "            classify = pointInPolygonClassificationBool(verts, edges)\n",
    "            inOut = classify(testpoint)\n",
    "            if inOut == \"p_in\"\n",
    "                push!(intersectedFaces, k)\n",
    "            end\n",
    "        end\n",
    "\n",
    "        return intersectedFaces\n",
    "    end\n",
    "    return testinternalpoint0\n",
    "end"
   ]
  },
  {
   "cell_type": "code",
   "execution_count": 9,
   "metadata": {},
   "outputs": [
    {
     "data": {
      "text/plain": [
       "bool2d"
      ]
     },
     "metadata": {},
     "output_type": "display_data"
    }
   ],
   "source": [
    "\"\"\"\n",
    "    bool2d(assembly)\n",
    "\n",
    "# Arguments\n",
    "- `assembly::LinearAlgebraicRepresentation.Struct`\n",
    "    \n",
    "# Return\n",
    "- `W::Matrix{Float64}`\n",
    "- `copEV::SparseMatrixCSC{Int8,Int64}`\n",
    "- `copFE::SparseMatrixCSC{Int8,Int64}`\n",
    "- `boolmatrix::BitMatrix`\n",
    "\n",
    "# Usage\n",
    "```julia\n",
    "using SparseArrays, LARgenerators, Base.Threads, SparseArrays, IntervalTrees, LinearAlgebra\n",
    "import LinearAlgebraicRepresentation as Lar\n",
    "\n",
    "V, (VV, EV, FV) = Lar.cuboidGrid([1, 1], true)\n",
    "square = V, EV\n",
    "\n",
    "assembly = Lar.Struct([\n",
    "    Lar.Struct([Lar.t(0,0), Lar.r(0), square])\n",
    "    Lar.Struct([Lar.t(0,0.1), Lar.r(0.1), square])\n",
    "    Lar.Struct([Lar.t(0,0.2), Lar.r(0.2), square])\n",
    "    Lar.Struct([Lar.t(0,0.3), Lar.r(0.3), square])\n",
    "    Lar.Struct([Lar.t(0,0.4), Lar.r(0.4), square])\n",
    "])\n",
    "\n",
    "W, copEV, copFE, boolmatrix = LARgenerators.bool2d(assembly)\n",
    "```\n",
    "\"\"\"\n",
    "function bool2d(assembly)\n",
    "\n",
    "    V::Matrix{Float64}, EV::Vector{Vector{Int64}} = Lar.struct2lar(assembly)\n",
    "    cop_EW = convert(Lar.ChainOp, Lar.coboundary_0(EV::Lar.Cells))\n",
    "    Z = convert(Lar.Points, V')\n",
    "    W::Matrix{Float64}, copEV::SparseMatrixCSC{Int8,Int64}, copFE::SparseMatrixCSC{Int8,Int64} = Lar.planar_arrangement(Z::Lar.Points, cop_EW::Lar.ChainOp)\n",
    "    innerpoints = internalpoints2d(W, copEV, copFE)\n",
    "    listOfModels = Lar.evalStruct(assembly)\n",
    "    boolmatrix = BitArray(undef, copFE.m, length(listOfModels))\n",
    "\n",
    "    containmenttest = testinternalpoint2d(listOfModels)\n",
    "\n",
    "    for (k, point) in collect(enumerate(innerpoints))\n",
    "        cells = containmenttest(point)\n",
    "        for l in cells\n",
    "            @inbounds boolmatrix[k, l] = 1\n",
    "        end\n",
    "    end\n",
    "    return W, copEV, copFE, boolmatrix\n",
    "end"
   ]
  },
  {
   "cell_type": "markdown",
   "metadata": {},
   "source": [
    "## Esempio codice sviluppato ed ottimizzato\n",
    "Esempio parametrico con $t$ quadrati."
   ]
  },
  {
   "cell_type": "code",
   "execution_count": 10,
   "metadata": {},
   "outputs": [],
   "source": [
    "using ViewerGL, SparseArrays, BenchmarkTools\n",
    "import LinearAlgebraicRepresentation as Lar\n",
    "GL = ViewerGL\n",
    "\n",
    "V, (VV, EV, FV) = Lar.cuboidGrid([1, 1], true)\n",
    "square = V, EV\n",
    "\n",
    "assembly = Lar.Struct([\n",
    "    Lar.Struct([Lar.t(0,0), Lar.r(0), square])\n",
    "    Lar.Struct([Lar.t(0,0.1), Lar.r(0.1), square])\n",
    "    Lar.Struct([Lar.t(0,0.2), Lar.r(0.2), square])\n",
    "    Lar.Struct([Lar.t(0,0.3), Lar.r(0.3), square])\n",
    "    Lar.Struct([Lar.t(0,0.4), Lar.r(0.4), square])\n",
    "])\n",
    "\n",
    "V, EV = Lar.struct2lar(assembly)\n",
    "GL.VIEW([GL.GLGrid(V, EV, GL.COLORS[1], 1), GL.GLFrame2]);\n",
    "\n",
    "W, copEV, copFE, boolmatrix = bool2d(assembly)\n",
    "\n",
    "A = boolmatrix[:, 1]\n",
    "B = boolmatrix[:, 2]\n",
    "C = boolmatrix[:, 3]\n",
    "D = boolmatrix[:, 4]\n",
    "E = boolmatrix[:, 5]\n",
    "\n",
    "AorB = A .| B .| C .| D .| E\n",
    "AandB = A .& B .& C .& D .& E\n",
    "AxorB = A .⊻ B .⊻ C .⊻ D .⊻ E\n",
    "\n",
    "union = Matrix(copFE)' * Int.(AorB)\n",
    "intersection = Matrix(copFE)' * Int.(AandB)\n",
    "xor = Matrix(copFE)' * AxorB\n",
    "\n",
    "V = convert(Lar.Points,W')\n",
    "EV = Lar.cop2lar(copEV)\n",
    "EVor = [ev for (k,ev) in enumerate(EV) if abs(union[k])==1 ]\n",
    "EVand = [ev for (k,ev) in enumerate(EV) if abs(intersection[k])==1 ]\n",
    "EVxor = [ev for (k,ev) in enumerate(EV) if abs(xor[k])==1 ]\n",
    "\n",
    "GL.VIEW([ GL.GLGrid(V,EVor, GL.COLORS[1],1), GL.GLFrame2 ]);\n",
    "GL.VIEW([ GL.GLGrid(V,EVand, GL.COLORS[1],1), GL.GLFrame2 ]);\n",
    "GL.VIEW([ GL.GLGrid(V,EVxor, GL.COLORS[1],1), GL.GLFrame2 ]);\n",
    "\n",
    "model = (V,[VV, EVor])\n",
    "GL.VIEW( GL.numbering(.5)( model,GL.COLORS[1],0.1 ) );\n",
    "\n",
    "model = (V,[VV, EVand])\n",
    "GL.VIEW( GL.numbering(.5)( model,GL.COLORS[1],0.1 ) );\n",
    "\n",
    "model = (V,[VV, EVxor])\n",
    "GL.VIEW( GL.numbering(.5)( model,GL.COLORS[1],0.1 ) );"
   ]
  },
  {
   "cell_type": "markdown",
   "metadata": {},
   "source": [
    "# Analisi delle prestazioni\n",
    "Di seguito sono confrontati i tempi di esecuzioni delle funzioni ottimizzate con le loro versioni originali presenti sul notebook."
   ]
  },
  {
   "cell_type": "markdown",
   "metadata": {},
   "source": [
    "## Benchmark della funzione `bool2d` originale\n",
    "I risultati dei benchmark, condotti su un MacBook Air (M1, 2020) 8 cores, sono commentati dentro ogni cella."
   ]
  },
  {
   "cell_type": "code",
   "execution_count": 20,
   "metadata": {},
   "outputs": [
    {
     "name": "stdout",
     "output_type": "stream",
     "text": [
      "  6.540 ms (47573 allocations: 2.95 MiB)\n"
     ]
    },
    {
     "data": {
      "text/plain": [
       "([0.0 0.0; 0.0 1.0; … ; 0.921061 0.7894183; 0.5316427 1.7104793], sparse([1, 7, 5, 8, 4, 5, 60, 71, 3, 4  …  58, 59, 69, 70, 63, 74, 64, 73, 70, 74], [1, 1, 2, 2, 3, 3, 3, 3, 4, 4  …  42, 42, 42, 42, 43, 43, 44, 44, 45, 45], Int8[-1, -1, -1, -1, -1, 1, -1, -1, -1, 1  …  1, 1, 1, -1, 1, -1, 1, 1, 1, 1], 74, 45), sparse([11, 1, 18, 2, 8, 3, 9, 4, 10, 11  …  16, 29, 30, 3, 4, 5, 27, 15, 28, 30], [1, 2, 2, 3, 3, 4, 4, 5, 5, 6  …  69, 69, 70, 71, 71, 72, 72, 73, 73, 74], Int8[-1, 1, -1, 1, -1, 1, -1, 1, -1, 1  …  1, -1, 1, -1, 1, -1, 1, -1, 1, -1], 30, 74), Bool[1 1 … 0 1; 1 1 … 0 1; … ; 0 0 … 1 0; 0 0 … 1 1])"
      ]
     },
     "execution_count": 20,
     "metadata": {},
     "output_type": "execute_result"
    }
   ],
   "source": [
    "using BenchmarkTools\n",
    "@btime bool2dEx($assembly)\n",
    "\n",
    "# Risultato test: 6.540 ms (47573 allocations: 2.95 MiB)"
   ]
  },
  {
   "cell_type": "markdown",
   "metadata": {},
   "source": [
    "## Benchmark della funzione `bool2d` ottimizzata"
   ]
  },
  {
   "cell_type": "code",
   "execution_count": 21,
   "metadata": {},
   "outputs": [
    {
     "name": "stdout",
     "output_type": "stream",
     "text": [
      "  6.287 ms (44753 allocations: 2.75 MiB)\n"
     ]
    },
    {
     "data": {
      "text/plain": [
       "([0.0 0.0; 0.0 1.0; … ; 0.921061 0.7894183; 0.5316427 1.7104793], sparse([1, 7, 5, 8, 4, 5, 60, 71, 3, 4  …  58, 59, 69, 70, 63, 74, 64, 73, 70, 74], [1, 1, 2, 2, 3, 3, 3, 3, 4, 4  …  42, 42, 42, 42, 43, 43, 44, 44, 45, 45], Int8[-1, -1, -1, -1, -1, 1, -1, -1, -1, 1  …  1, 1, 1, -1, 1, -1, 1, 1, 1, 1], 74, 45), sparse([11, 1, 18, 2, 8, 3, 9, 4, 10, 11  …  16, 29, 30, 3, 4, 5, 27, 15, 28, 30], [1, 2, 2, 3, 3, 4, 4, 5, 5, 6  …  69, 69, 70, 71, 71, 72, 72, 73, 73, 74], Int8[-1, 1, -1, 1, -1, 1, -1, 1, -1, 1  …  1, -1, 1, -1, 1, -1, 1, -1, 1, -1], 30, 74), Bool[1 1 … 0 0; 1 1 … 0 0; … ; 0 0 … 1 0; 0 0 … 0 1])"
      ]
     },
     "execution_count": 21,
     "metadata": {},
     "output_type": "execute_result"
    }
   ],
   "source": [
    "bool2d(assembly)\n",
    "@btime bool2d($assembly)\n",
    "\n",
    "# Risultato test: 6.287 ms (44753 allocations: 2.75 MiB)"
   ]
  },
  {
   "cell_type": "markdown",
   "metadata": {},
   "source": [
    "## Benchmark della funzione `pointInPolygonClassification` originale"
   ]
  },
  {
   "cell_type": "code",
   "execution_count": 22,
   "metadata": {},
   "outputs": [
    {
     "name": "stdout",
     "output_type": "stream",
     "text": [
      "  850.524 ns (14 allocations: 1.06 KiB)\n"
     ]
    },
    {
     "data": {
      "text/plain": [
       "\"p_in\""
      ]
     },
     "execution_count": 22,
     "metadata": {},
     "output_type": "execute_result"
    }
   ],
   "source": [
    "V = [0.0 1.1102230246251565e-16 1.0000000000000002 0.9999999876692717; 0.0 -1.0 -1.0 -8.265760442771608e-8]\n",
    "EV = [[3, 2], [4, 1], [3, 4], [2, 1]]\n",
    "pnt1 = [0.902095995358517, -0.7029571256300666]\n",
    "pnt2 = [9.999999999998899e-5, 0.9999]\n",
    "\n",
    "Lar.pointInPolygonClassification(V, EV)(pnt1)\n",
    "@btime Lar.pointInPolygonClassification(V, EV)(pnt1)\n",
    "\n",
    "# Risultato test: 850.524 ns (14 allocations: 1.06 KiB)"
   ]
  },
  {
   "cell_type": "markdown",
   "metadata": {},
   "source": [
    "## Benchmark della funzione `pointInPolygonClassification` ottimizzata"
   ]
  },
  {
   "cell_type": "code",
   "execution_count": 23,
   "metadata": {},
   "outputs": [
    {
     "name": "stdout",
     "output_type": "stream",
     "text": [
      "  629.165 ns (10 allocations: 768 bytes)\n"
     ]
    },
    {
     "data": {
      "text/plain": [
       "\"p_in\""
      ]
     },
     "execution_count": 23,
     "metadata": {},
     "output_type": "execute_result"
    }
   ],
   "source": [
    "pointInPolygonClassificationBool(V, EV)(pnt1)\n",
    "@btime pointInPolygonClassificationBool(V, EV)(pnt1)\n",
    "\n",
    "# Risultato test: 629.165 ns (10 allocations: 768 bytes)"
   ]
  },
  {
   "cell_type": "markdown",
   "metadata": {},
   "source": [
    "## Considerazioni sulle perfomance\n",
    "Le prestazioni di `bool2d()` sono strettamente influenzate dalla funzione `planar_arrangement()`"
   ]
  },
  {
   "cell_type": "code",
   "execution_count": 24,
   "metadata": {},
   "outputs": [
    {
     "name": "stdout",
     "output_type": "stream",
     "text": [
      "  5.664 ms (40150 allocations: 2.44 MiB)\n"
     ]
    },
    {
     "data": {
      "text/plain": [
       "([0.0 0.0; 0.0 1.0; … ; 0.921061 0.7894183; 0.5316427 1.7104793], sparse([1, 7, 5, 8, 4, 5, 60, 71, 3, 4  …  58, 59, 69, 70, 63, 74, 64, 73, 70, 74], [1, 1, 2, 2, 3, 3, 3, 3, 4, 4  …  42, 42, 42, 42, 43, 43, 44, 44, 45, 45], Int8[-1, -1, -1, -1, -1, 1, -1, -1, -1, 1  …  1, 1, 1, -1, 1, -1, 1, 1, 1, 1], 74, 45), sparse([11, 1, 18, 2, 8, 3, 9, 4, 10, 11  …  16, 29, 30, 3, 4, 5, 27, 15, 28, 30], [1, 2, 2, 3, 3, 4, 4, 5, 5, 6  …  69, 69, 70, 71, 71, 72, 72, 73, 73, 74], Int8[-1, 1, -1, 1, -1, 1, -1, 1, -1, 1  …  1, -1, 1, -1, 1, -1, 1, -1, 1, -1], 30, 74))"
      ]
     },
     "execution_count": 24,
     "metadata": {},
     "output_type": "execute_result"
    }
   ],
   "source": [
    "V, EV = Lar.struct2lar(assembly)\n",
    "cop_EW = convert(Lar.ChainOp, Lar.coboundary_0(EV::Lar.Cells))\n",
    "Z = convert(Lar.Points, V')\n",
    "@btime Lar.Arrangement.planar_arrangement($Z, $cop_EW)\n",
    "\n",
    "# Risultato test: 5.664 ms (40150 allocations: 2.44 MiB)"
   ]
  }
 ],
 "metadata": {
  "kernelspec": {
   "display_name": "Julia 8 Threads 1.7.2",
   "language": "julia",
   "name": "julia-8-threads-1.7"
  },
  "language_info": {
   "file_extension": ".jl",
   "mimetype": "application/julia",
   "name": "julia",
   "version": "1.7.3"
  }
 },
 "nbformat": 4,
 "nbformat_minor": 2
}
